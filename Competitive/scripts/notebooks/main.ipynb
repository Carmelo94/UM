{
 "cells": [
  {
   "cell_type": "code",
   "execution_count": 1,
   "metadata": {},
   "outputs": [],
   "source": [
    "import sys\n",
    "sys.path.append('../../utils')\n",
    "from main import *"
   ]
  },
  {
   "cell_type": "code",
   "execution_count": 2,
   "metadata": {},
   "outputs": [],
   "source": [
    "db = AMEX()"
   ]
  },
  {
   "cell_type": "code",
   "execution_count": 3,
   "metadata": {
    "scrolled": true
   },
   "outputs": [
    {
     "name": "stdout",
     "output_type": "stream",
     "text": [
      "==================================================\n",
      "Running: 00_pathmatics\n",
      "\n",
      "Loading data from: []\n",
      "No files in 00_pathmatics\n",
      "==================================================\n",
      "Running: 01_kantar\n",
      "\n",
      "Loading data from: []\n",
      "No files in 01_kantar\n"
     ]
    }
   ],
   "source": [
    "db.dimensions()"
   ]
  },
  {
   "cell_type": "code",
   "execution_count": 4,
   "metadata": {
    "scrolled": false
   },
   "outputs": [
    {
     "name": "stdout",
     "output_type": "stream",
     "text": [
      "==================================================\n",
      "Running: 00_pathmatics\n",
      "\n",
      "Loading data from: []\n",
      "No files in 00_pathmatics\n",
      "==================================================\n",
      "Running: 01_kantar\n",
      "\n",
      "Loading data from: []\n",
      "No files in 01_kantar\n"
     ]
    }
   ],
   "source": [
    "db.facts()"
   ]
  },
  {
   "cell_type": "code",
   "execution_count": 3,
   "metadata": {
    "scrolled": false
   },
   "outputs": [
    {
     "name": "stdout",
     "output_type": "stream",
     "text": [
      "Pathmatics Runtime: 101.45\n",
      "Kantar Runtime: 56.43\n",
      "\n",
      "Processing Kantar\n",
      "-------------------------\n",
      "\n",
      "Processing Pathmatics\n",
      "-------------------------\n",
      "Combining Data\n",
      "\n",
      "All Products Mapped\n",
      "\n",
      "File Exported\n"
     ]
    }
   ],
   "source": [
    "db.final_view()"
   ]
  },
  {
   "cell_type": "code",
   "execution_count": null,
   "metadata": {},
   "outputs": [],
   "source": []
  }
 ],
 "metadata": {
  "kernelspec": {
   "display_name": "Python 3",
   "language": "python",
   "name": "python3"
  },
  "language_info": {
   "codemirror_mode": {
    "name": "ipython",
    "version": 3
   },
   "file_extension": ".py",
   "mimetype": "text/x-python",
   "name": "python",
   "nbconvert_exporter": "python",
   "pygments_lexer": "ipython3",
   "version": "3.7.2"
  }
 },
 "nbformat": 4,
 "nbformat_minor": 2
}
