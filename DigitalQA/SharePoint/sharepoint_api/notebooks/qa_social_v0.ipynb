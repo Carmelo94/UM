{
 "cells": [
  {
   "cell_type": "code",
   "execution_count": 1,
   "metadata": {},
   "outputs": [
    {
     "data": {
      "text/html": [
       "<style>.container { width:80% !important; }</style>"
      ],
      "text/plain": [
       "<IPython.core.display.HTML object>"
      ]
     },
     "metadata": {},
     "output_type": "display_data"
    }
   ],
   "source": [
    "from IPython.core.display import display, HTML\n",
    "display(HTML(\"<style>.container { width:80% !important; }</style>\"))\n",
    "\n",
    "import xlsxwriter\n",
    "from itertools import chain\n",
    "from datetime import datetime, timedelta\n",
    "import pandas as pd\n",
    "import numpy as np\n",
    "import glob\n",
    "import os\n",
    "import re\n",
    "\n",
    "import sys\n",
    "sys.path.append('../utils')\n",
    "from SharePoint import *\n",
    "from hlpr import *\n",
    "from static import *\n",
    "from format_qa import *\n",
    "from qa_by_media import *\n",
    "\n",
    "import warnings\n",
    "warnings.filterwarnings('ignore')"
   ]
  },
  {
   "cell_type": "code",
   "execution_count": 2,
   "metadata": {},
   "outputs": [],
   "source": [
    "media = 'social'\n",
    "\n",
    "SHAREPOINT_DATA_PATH = media_args[media]['sharepoint']['data']\n",
    "SHAREPOINT_MAPPING_PATH = media_args[media]['sharepoint']['mapping']\n",
    "# SHAREPOINT_QA_PATH = media_args[media]['sharepoint']['qa']\n",
    "# SHAREPOINT_FLAT_PATH = media_args[media]['sharepoint']['flat']\n",
    "# REDSHIFT_METRICS_QUERY = media_args[media]['redshift']['all_metrics']\n",
    "REDSHIFT_METRICS_FILENAME = media_args[media]['redshift']['metric_filename']\n",
    "REDSHIFT_METRICS_SHEETNAME = media_args[media]['redshift']['metric_sheetname']\n",
    "REDSHIFT_QA_QUERY = media_args[media]['redshift']['qa_qry']"
   ]
  },
  {
   "cell_type": "markdown",
   "metadata": {},
   "source": [
    "**Connect to SharePoint**"
   ]
  },
  {
   "cell_type": "code",
   "execution_count": 3,
   "metadata": {},
   "outputs": [
    {
     "name": "stdout",
     "output_type": "stream",
     "text": [
      "connected to: https://interpublic.sharepoint.com/sites/AmericanExpressUSGABM\n",
      "\n",
      "listing files from: Measurement%20%20Analytics%20Folder/GABM/Global%20Analytics/DigitalQA/Social/01Sandbox/National\n",
      "\n"
     ]
    }
   ],
   "source": [
    "app = SharePoint('AmericanExpressUSGABM')\n",
    "\n",
    "# download data\n",
    "app.list_contents(SHAREPOINT_DATA_PATH)\n",
    "# app.download_files(DATA_PATH)\n",
    "# app.archive_files()\n",
    "\n",
    "# download floodlight mapping\n",
    "# app.list_contents(SHAREPOINT_MAPPING_PATH)\n",
    "# app.download_files(ASSETS_PATH)"
   ]
  },
  {
   "cell_type": "code",
   "execution_count": 4,
   "metadata": {},
   "outputs": [
    {
     "data": {
      "text/plain": [
       "[]"
      ]
     },
     "execution_count": 4,
     "metadata": {},
     "output_type": "execute_result"
    }
   ],
   "source": [
    "app.file_paths"
   ]
  },
  {
   "cell_type": "markdown",
   "metadata": {},
   "source": [
    "**Import Raw Data**"
   ]
  },
  {
   "cell_type": "code",
   "execution_count": 5,
   "metadata": {},
   "outputs": [],
   "source": [
    "def social_qa(redshift_metrics_filename, redshift_qa_query):\n",
    "    print('starting qa\\n')\n",
    "    time.sleep(1)\n",
    "\n",
    "# import metrics\n",
    "# ========================================================================================================================\n",
    "    pth = glob.glob(os.path.join(ASSETS_PATH, f\"*{redshift_metrics_filename}*\"))[0]\n",
    "    df_metrics = pd.read_excel(pth, sheet_name='metric_map')\n",
    "\n",
    "# import and qa loop\n",
    "# ========================================================================================================================\n",
    "    platforms = ['fb', 'li', 'pi', 'tw']\n",
    "    social_dict = dict()\n",
    "\n",
    "    for p in platforms:\n",
    "        pth = glob.glob(os.path.join(DATA_PATH, f\"{p}*\")) # starts with platform abbreviation\n",
    "\n",
    "        if len(pth) == 0:\n",
    "            continue\n",
    "\n",
    "        # import data\n",
    "        social_dict[p] = import_social(p, pth, df_metrics)\n",
    "\n",
    "        # query database\n",
    "        qry_txt = get_qry_text(redshift_qa_query)\n",
    "        qry_txt = qry_txt.replace('load_metrics', social_dict[p]['params']['metrics']) \\\n",
    "                         .replace('load_campaign_name', social_dict[p]['params']['campaign']) \\\n",
    "                         .replace('load_start_date', social_dict[p]['params']['start']) \\\n",
    "                         .replace('load_end_date', social_dict[p]['params']['end']) \\\n",
    "                         .replace('load_adset_id', social_dict[p]['params']['adset'])\n",
    "\n",
    "        if p == 'li':\n",
    "            qry_txt = qry_txt.replace('AND universal_adset_id IN', 'AND universal_adset IN')\n",
    "\n",
    "        print(f\"starting query for: {p}\")\n",
    "        start_time = time.time()\n",
    "        df_qry_raw = run_qry(qry_txt)\n",
    "        print(f\"query completed: {time.time() - start_time}\")\n",
    "\n",
    "        social_dict[p]['qry'] = qry_txt\n",
    "        social_dict[p]['qry_results'] = df_qry_raw\n",
    "\n",
    "        # combine to create qa file\n",
    "        social_dict[p]['qa_results'] = create_social_qa(p, social_dict[p]['pro_data'], social_dict[p]['qry_results'], df_metrics)\n",
    "\n",
    "    return social_dict"
   ]
  },
  {
   "cell_type": "code",
   "execution_count": 6,
   "metadata": {},
   "outputs": [
    {
     "name": "stdout",
     "output_type": "stream",
     "text": [
      "starting qa\n",
      "\n",
      "starting query for: tw\n",
      "query completed: 50.12732124328613\n"
     ]
    }
   ],
   "source": [
    "qa_results = social_qa(REDSHIFT_METRICS_FILENAME, REDSHIFT_QA_QUERY)"
   ]
  },
  {
   "cell_type": "code",
   "execution_count": 7,
   "metadata": {},
   "outputs": [
    {
     "data": {
      "text/plain": [
       "dict_keys(['tw'])"
      ]
     },
     "execution_count": 7,
     "metadata": {},
     "output_type": "execute_result"
    }
   ],
   "source": [
    "qa_results.keys()"
   ]
  },
  {
   "cell_type": "code",
   "execution_count": 8,
   "metadata": {},
   "outputs": [
    {
     "data": {
      "text/plain": [
       "dict_keys(['pre_data', 'params', 'pro_data', 'qry', 'qry_results', 'qa_results'])"
      ]
     },
     "execution_count": 8,
     "metadata": {},
     "output_type": "execute_result"
    }
   ],
   "source": [
    "qa_results['tw'].keys()"
   ]
  },
  {
   "cell_type": "code",
   "execution_count": 12,
   "metadata": {},
   "outputs": [
    {
     "data": {
      "text/plain": [
       "dict_keys(['campaign', 'adset', 'week'])"
      ]
     },
     "execution_count": 12,
     "metadata": {},
     "output_type": "execute_result"
    }
   ],
   "source": [
    "qa_results['tw']['qa_results'].keys()"
   ]
  },
  {
   "cell_type": "code",
   "execution_count": 13,
   "metadata": {},
   "outputs": [
    {
     "data": {
      "text/html": [
       "<div>\n",
       "<style scoped>\n",
       "    .dataframe tbody tr th:only-of-type {\n",
       "        vertical-align: middle;\n",
       "    }\n",
       "\n",
       "    .dataframe tbody tr th {\n",
       "        vertical-align: top;\n",
       "    }\n",
       "\n",
       "    .dataframe thead th {\n",
       "        text-align: right;\n",
       "    }\n",
       "</style>\n",
       "<table border=\"1\" class=\"dataframe\">\n",
       "  <thead>\n",
       "    <tr style=\"text-align: right;\">\n",
       "      <th></th>\n",
       "      <th>campaign_name</th>\n",
       "      <th>Link clicks_platform</th>\n",
       "      <th>Link clicks_redshift</th>\n",
       "      <th>Link clicks_%_diff</th>\n",
       "      <th>Spend_platform</th>\n",
       "      <th>Spend_redshift</th>\n",
       "      <th>Spend_%_diff</th>\n",
       "      <th>Impressions_platform</th>\n",
       "      <th>Impressions_redshift</th>\n",
       "      <th>Impressions_%_diff</th>\n",
       "    </tr>\n",
       "  </thead>\n",
       "  <tbody>\n",
       "    <tr>\n",
       "      <th>0</th>\n",
       "      <td>21_Q1_USA_GA_TW_LINK_Dine Small - Takeout Tuesday</td>\n",
       "      <td>1555.0</td>\n",
       "      <td>1555.0</td>\n",
       "      <td>0.0</td>\n",
       "      <td>9360.0</td>\n",
       "      <td>9360.0</td>\n",
       "      <td>0.0</td>\n",
       "      <td>785223.0</td>\n",
       "      <td>785223.0</td>\n",
       "      <td>0.0</td>\n",
       "    </tr>\n",
       "  </tbody>\n",
       "</table>\n",
       "</div>"
      ],
      "text/plain": [
       "                                       campaign_name  Link clicks_platform  \\\n",
       "0  21_Q1_USA_GA_TW_LINK_Dine Small - Takeout Tuesday                1555.0   \n",
       "\n",
       "   Link clicks_redshift  Link clicks_%_diff  Spend_platform  Spend_redshift  \\\n",
       "0                1555.0                 0.0          9360.0          9360.0   \n",
       "\n",
       "   Spend_%_diff  Impressions_platform  Impressions_redshift  \\\n",
       "0           0.0              785223.0              785223.0   \n",
       "\n",
       "   Impressions_%_diff  \n",
       "0                 0.0  "
      ]
     },
     "execution_count": 13,
     "metadata": {},
     "output_type": "execute_result"
    }
   ],
   "source": [
    "qa_results['tw']['qa_results']['campaign']"
   ]
  },
  {
   "cell_type": "markdown",
   "metadata": {},
   "source": [
    "### Create Social QA"
   ]
  },
  {
   "cell_type": "code",
   "execution_count": 53,
   "metadata": {},
   "outputs": [
    {
     "data": {
      "text/plain": [
       "array(['In Feed_na_Dine Small_A25-54_English_Taco Groundhog Day-VID-:15-Groundhog Day Unbranded_294385184',\n",
       "       'In Feed_na_Dine Small_A25-54_English_Chicken Groundhog Day-VID-:15-Groundhog Day Unbranded_294385184'],\n",
       "      dtype=object)"
      ]
     },
     "execution_count": 53,
     "metadata": {},
     "output_type": "execute_result"
    }
   ],
   "source": [
    "qa_results['tw']['qry_results']['universal_adset'].unique()"
   ]
  },
  {
   "cell_type": "code",
   "execution_count": 17,
   "metadata": {},
   "outputs": [],
   "source": [
    "# params\n",
    "pth = glob.glob(os.path.join(ASSETS_PATH, f\"*{REDSHIFT_METRICS_FILENAME}*\"))[0]\n",
    "df_metrics = pd.read_excel(pth, sheet_name='metric_map')\n",
    "\n",
    "platform = 'tw'\n",
    "params = [platform, qa_results[platform]['pro_data'], qa_results[platform]['qry_results'], df_metrics]"
   ]
  },
  {
   "cell_type": "code",
   "execution_count": 44,
   "metadata": {},
   "outputs": [],
   "source": [
    "def create_social_qa(platform, df_ui, df_rs, df_metrics):\n",
    "    '''\n",
    "    Combine platform and Redshift data to calculate diff across metrics.\n",
    "        Parameters:\n",
    "            platform (str): abbreviated platform name: 'fb', 'li', 'pi', 'tw'\n",
    "            df_ui (df): platform dataframe\n",
    "            df_rs (df): redshift dataframe\n",
    "            df_metrics (df): platform metrics and redshift equivalent\n",
    "        Returns:\n",
    "            pvts_dict (dict): dictionary of metric differences\n",
    "    '''\n",
    "\n",
    "    pvts_dict = dict()\n",
    "\n",
    "    # rename redshift columns to align with platform data\n",
    "    rs_rename_cols = {\n",
    "        'universal_campaign':'campaign_name',\n",
    "        'universal_adset': 'adset',\n",
    "        'universal_campaign_id': 'campaign_id',\n",
    "        'universal_adset_id': 'adset_id',\n",
    "        'platform_metric': 'variable'\n",
    "                    }\n",
    "    # add platform to redshift dataframe\n",
    "    df_rs['platform'] = platform\n",
    "\n",
    "    # rename columns for mapping\n",
    "    df_metrics_fltr = df_metrics[df_metrics['platform']==platform][['platform_metric', 'redshift_universal_metric']].drop_duplicates()\n",
    "    df_metrics_fltr.rename(columns={'redshift_universal_metric':'universal_metric'}, inplace=True)\n",
    "\n",
    "    # add the twitter conversions to the filter\n",
    "    if platform=='tw':\n",
    "        pth = glob.glob(os.path.join(ASSETS_PATH, \"*Social_Metrics*\"))[0]\n",
    "        df_metrics = pd.read_excel(pth, sheet_name='tw_conversions')\n",
    "        floodlight = list(df_metrics['floodlight_name']) # filter dcm data by these floodlights\n",
    "\n",
    "        # create a dataframe to stack the twitter conversions\n",
    "        df_tw_floodlights = pd.concat([pd.DataFrame(floodlight), pd.DataFrame(floodlight)], axis=1)\n",
    "        df_tw_floodlights.columns = ['platform_metric', 'universal_metric']\n",
    "\n",
    "        df_metrics_fltr = pd.concat([df_metrics_fltr,df_tw_floodlights])\n",
    "            \n",
    "    # map variables to platform name\n",
    "    df_rs = df_rs.merge(df_metrics_fltr, how='left')\n",
    "    df_rs.rename(columns=rs_rename_cols, inplace=True)\n",
    "    \n",
    "    # group data\n",
    "    group_fields = list(df_ui.columns[:-1])\n",
    "    group_fields = [f for f in group_fields if not('_id' in f.lower())] if platform == 'li' else group_fields # remove id from li qa\n",
    "    df_rs = df_rs.groupby(group_fields)['value'].sum().to_frame().reset_index()\n",
    "    df_ui = df_ui.groupby(group_fields)['value'].sum().to_frame().reset_index()\n",
    "    \n",
    "    # add source\n",
    "    df_rs['source'] = 'redshift'\n",
    "    df_ui['source'] = 'platform'\n",
    "\n",
    "    # combine rs and ui for qa\n",
    "    df_qa = pd.concat([df_rs, df_ui])\n",
    "    df_qa['value'] = np.round(df_qa['value'])\n",
    "    \n",
    "\n",
    "    # set up views\n",
    "    view_args = {\n",
    "        'campaign': {\n",
    "            'index':['campaign_name'],\n",
    "            'dim_cutoff': 1\n",
    "                    },\n",
    "        'adset': {\n",
    "            'index':['campaign_name', 'adset'],\n",
    "            'dim_cutoff': 2\n",
    "                 },\n",
    "        'week': {\n",
    "            'index':['campaign_name', 'adset', 'week'],\n",
    "            'dim_cutoff': 3\n",
    "                 }\n",
    "                }\n",
    "\n",
    "    for k in view_args.keys():\n",
    "        df_pvt = df_qa.pivot_table(index=view_args[k]['index'], columns=['variable', 'source'], values='value', aggfunc='sum').reset_index()\n",
    "\n",
    "        list_of_metric_diff = []\n",
    "        metrics = df_pvt.columns.levels[0][:list(df_pvt.columns.levels[0]).index(view_args[k]['index'][-1])]\n",
    "\n",
    "        # move core metrics to the beginning\n",
    "        core_metrics = social_param_fields[platform]['core_metrics']\n",
    "        metrics = core_metrics + [m for m in metrics if not(m in core_metrics)]\n",
    "\n",
    "        for m in metrics:\n",
    "            df_temp = df_pvt.copy()\n",
    "            df_temp = df_temp[m]\n",
    "            df_temp.columns = [f\"{m}_{c}\" for c in df_temp.columns]\n",
    "\n",
    "            # fill na based on condition\n",
    "            if len(df_temp.columns) < 2:\n",
    "                continue\n",
    "            col0 = df_temp.columns[0]\n",
    "            col1 = df_temp.columns[1]\n",
    "            df_temp[col0] = df_temp.apply(lambda x: 0 if np.isnan(x[col0]) and not(np.isnan(x[col1])) else x[col0], axis=1)\n",
    "            df_temp[col1] = df_temp.apply(lambda x: 0 if np.isnan(x[col1]) and not(np.isnan(x[col0])) else x[col1], axis=1)\n",
    "\n",
    "            df_temp[f\"{m}_%_diff\"] = (df_temp.iloc[:,0]/df_temp.iloc[:,1])-1\n",
    "            df_temp[f\"{m}_%_diff\"] = df_temp[f\"{m}_%_diff\"].apply(lambda x: 1 if x == float('inf') else x)\n",
    "\n",
    "            list_of_metric_diff.append(df_temp)\n",
    "\n",
    "        metric_diffs = pd.concat(list_of_metric_diff, axis=1)\n",
    "        df_pvt_qa = pd.concat([df_pvt.iloc[:, :view_args[k]['dim_cutoff']], metric_diffs], axis=1)\n",
    "        df_pvt_qa.columns = [c[0] if type(c) is tuple else c for c in df_pvt_qa.columns]\n",
    "\n",
    "        pvts_dict[k] = df_pvt_qa\n",
    "\n",
    "    return pvts_dict\n"
   ]
  },
  {
   "cell_type": "code",
   "execution_count": 45,
   "metadata": {},
   "outputs": [],
   "source": [
    "results = create_social_qa(params[0], params[1], params[2], params[3])"
   ]
  },
  {
   "cell_type": "code",
   "execution_count": 46,
   "metadata": {},
   "outputs": [
    {
     "data": {
      "text/plain": [
       "dict_keys(['campaign', 'adset', 'week'])"
      ]
     },
     "execution_count": 46,
     "metadata": {},
     "output_type": "execute_result"
    }
   ],
   "source": [
    "results.keys()"
   ]
  },
  {
   "cell_type": "code",
   "execution_count": 50,
   "metadata": {},
   "outputs": [
    {
     "data": {
      "text/html": [
       "<div>\n",
       "<style scoped>\n",
       "    .dataframe tbody tr th:only-of-type {\n",
       "        vertical-align: middle;\n",
       "    }\n",
       "\n",
       "    .dataframe tbody tr th {\n",
       "        vertical-align: top;\n",
       "    }\n",
       "\n",
       "    .dataframe thead th {\n",
       "        text-align: right;\n",
       "    }\n",
       "</style>\n",
       "<table border=\"1\" class=\"dataframe\">\n",
       "  <thead>\n",
       "    <tr style=\"text-align: right;\">\n",
       "      <th></th>\n",
       "      <th>campaign_name</th>\n",
       "      <th>Link clicks_platform</th>\n",
       "      <th>Link clicks_redshift</th>\n",
       "      <th>Link clicks_%_diff</th>\n",
       "      <th>Spend_platform</th>\n",
       "      <th>Spend_redshift</th>\n",
       "      <th>Spend_%_diff</th>\n",
       "      <th>Impressions_platform</th>\n",
       "      <th>Impressions_redshift</th>\n",
       "      <th>Impressions_%_diff</th>\n",
       "      <th>Resy : Resy Takeout: Click-through Conversion Events + Cross-Environment_platform</th>\n",
       "      <th>Resy : Resy Takeout: Click-through Conversion Events + Cross-Environment_redshift</th>\n",
       "      <th>Resy : Resy Takeout: Click-through Conversion Events + Cross-Environment_%_diff</th>\n",
       "      <th>Resy : Resy Takeout: View-through Conversion Events + Cross-Environment_platform</th>\n",
       "      <th>Resy : Resy Takeout: View-through Conversion Events + Cross-Environment_redshift</th>\n",
       "      <th>Resy : Resy Takeout: View-through Conversion Events + Cross-Environment_%_diff</th>\n",
       "    </tr>\n",
       "  </thead>\n",
       "  <tbody>\n",
       "    <tr>\n",
       "      <th>0</th>\n",
       "      <td>21_Q1_USA_GA_TW_LINK_Dine Small - Takeout Tuesday</td>\n",
       "      <td>1555.0</td>\n",
       "      <td>1555.0</td>\n",
       "      <td>0.0</td>\n",
       "      <td>9360.0</td>\n",
       "      <td>9360.0</td>\n",
       "      <td>0.0</td>\n",
       "      <td>785223.0</td>\n",
       "      <td>785223.0</td>\n",
       "      <td>0.0</td>\n",
       "      <td>0.0</td>\n",
       "      <td>0.0</td>\n",
       "      <td>NaN</td>\n",
       "      <td>0.0</td>\n",
       "      <td>0.0</td>\n",
       "      <td>NaN</td>\n",
       "    </tr>\n",
       "  </tbody>\n",
       "</table>\n",
       "</div>"
      ],
      "text/plain": [
       "                                       campaign_name  Link clicks_platform  \\\n",
       "0  21_Q1_USA_GA_TW_LINK_Dine Small - Takeout Tuesday                1555.0   \n",
       "\n",
       "   Link clicks_redshift  Link clicks_%_diff  Spend_platform  Spend_redshift  \\\n",
       "0                1555.0                 0.0          9360.0          9360.0   \n",
       "\n",
       "   Spend_%_diff  Impressions_platform  Impressions_redshift  \\\n",
       "0           0.0              785223.0              785223.0   \n",
       "\n",
       "   Impressions_%_diff  \\\n",
       "0                 0.0   \n",
       "\n",
       "   Resy : Resy Takeout: Click-through Conversion Events + Cross-Environment_platform  \\\n",
       "0                                                0.0                                   \n",
       "\n",
       "   Resy : Resy Takeout: Click-through Conversion Events + Cross-Environment_redshift  \\\n",
       "0                                                0.0                                   \n",
       "\n",
       "   Resy : Resy Takeout: Click-through Conversion Events + Cross-Environment_%_diff  \\\n",
       "0                                                NaN                                 \n",
       "\n",
       "   Resy : Resy Takeout: View-through Conversion Events + Cross-Environment_platform  \\\n",
       "0                                                0.0                                  \n",
       "\n",
       "   Resy : Resy Takeout: View-through Conversion Events + Cross-Environment_redshift  \\\n",
       "0                                                0.0                                  \n",
       "\n",
       "   Resy : Resy Takeout: View-through Conversion Events + Cross-Environment_%_diff  \n",
       "0                                                NaN                               "
      ]
     },
     "execution_count": 50,
     "metadata": {},
     "output_type": "execute_result"
    }
   ],
   "source": [
    "results['campaign']"
   ]
  },
  {
   "cell_type": "code",
   "execution_count": null,
   "metadata": {},
   "outputs": [],
   "source": []
  }
 ],
 "metadata": {
  "kernelspec": {
   "display_name": "Python 3",
   "language": "python",
   "name": "python3"
  },
  "language_info": {
   "codemirror_mode": {
    "name": "ipython",
    "version": 3
   },
   "file_extension": ".py",
   "mimetype": "text/x-python",
   "name": "python",
   "nbconvert_exporter": "python",
   "pygments_lexer": "ipython3",
   "version": "3.7.2"
  }
 },
 "nbformat": 4,
 "nbformat_minor": 2
}
