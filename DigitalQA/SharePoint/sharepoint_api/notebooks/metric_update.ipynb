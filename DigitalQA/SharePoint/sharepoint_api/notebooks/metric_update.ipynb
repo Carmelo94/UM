{
 "cells": [
  {
   "cell_type": "markdown",
   "metadata": {},
   "source": [
    "schedule on thursday"
   ]
  },
  {
   "cell_type": "code",
   "execution_count": 1,
   "metadata": {
    "scrolled": true
   },
   "outputs": [
    {
     "data": {
      "text/html": [
       "<style>.container { width:80% !important; }</style>"
      ],
      "text/plain": [
       "<IPython.core.display.HTML object>"
      ]
     },
     "metadata": {},
     "output_type": "display_data"
    }
   ],
   "source": [
    "from IPython.core.display import display, HTML\n",
    "display(HTML(\"<style>.container { width:80% !important; }</style>\"))\n",
    "\n",
    "from datetime import datetime, timedelta\n",
    "import pandas as pd\n",
    "import glob\n",
    "import os\n",
    "import openpyxl\n",
    "\n",
    "import sys\n",
    "sys.path.append('../utils')\n",
    "from SharePoint import *\n",
    "from hlpr import *\n",
    "from static import *\n",
    "\n",
    "import warnings\n",
    "warnings.filterwarnings('ignore')"
   ]
  },
  {
   "cell_type": "code",
   "execution_count": 5,
   "metadata": {},
   "outputs": [],
   "source": [
    "media = 'digital'\n",
    "\n",
    "SHAREPOINT_DATA_PATH = media_args[media]['sharepoint']['data']\n",
    "SHAREPOINT_MAPPING_PATH = media_args[media]['sharepoint']['mapping']\n",
    "SHAREPOINT_QA_PATH = media_args[media]['sharepoint']['qa']\n",
    "SHAREPOINT_FLAT_PATH = media_args[media]['sharepoint']['flat']\n",
    "REDSHIFT_METRICS_QUERY = media_args[media]['redshift']['all_metrics']\n",
    "REDSHIFT_METRICS_FILENAME = media_args[media]['redshift']['metric_filename']\n",
    "REDSHIFT_METRICS_SHEETNAME = media_args[media]['redshift']['metric_sheetname']\n",
    "REDSHIFT_QA_QUERY = media_args[media]['redshift']['qa_qry']"
   ]
  },
  {
   "cell_type": "markdown",
   "metadata": {},
   "source": [
    "**Connect to SharePoint**"
   ]
  },
  {
   "cell_type": "code",
   "execution_count": 6,
   "metadata": {},
   "outputs": [
    {
     "name": "stdout",
     "output_type": "stream",
     "text": [
      "connected to: https://interpublic.sharepoint.com/sites/AmericanExpressUSGABM\n",
      "\n",
      "listing files from: Measurement%20%20Analytics%20Folder/GABM/Global%20Analytics/DigitalQA/Digital/02Mapping\n",
      "\n",
      "downloading data to: C:\\Users\\carmelo.urena\\Documents\\Main\\OneDrive_BAK\\Amex\\DigitalQA\\SharePoint\\sharepoint_api\\assets\n",
      "\n"
     ]
    }
   ],
   "source": [
    "app = SharePoint('AmericanExpressUSGABM')\n",
    "\n",
    "app.list_contents(SHAREPOINT_MAPPING_PATH)\n",
    "app.download_files(ASSETS_PATH)"
   ]
  },
  {
   "cell_type": "markdown",
   "metadata": {},
   "source": [
    "**Get All Metrics from DB**"
   ]
  },
  {
   "cell_type": "code",
   "execution_count": 7,
   "metadata": {},
   "outputs": [],
   "source": [
    "# import allmetrics from redhshift\n",
    "df_rs_metrics = run_qry(REDSHIFT_METRICS_QUERY)"
   ]
  },
  {
   "cell_type": "markdown",
   "metadata": {},
   "source": [
    "**Compare Metrics**"
   ]
  },
  {
   "cell_type": "code",
   "execution_count": 10,
   "metadata": {},
   "outputs": [],
   "source": [
    "# import current state\n",
    "pth = glob.glob(os.path.join(ASSETS_PATH, f\"*{REDSHIFT_METRICS_FILENAME}*\"))[0]\n",
    "df_cur_metrics = pd.read_excel(pth, sheet_name=REDSHIFT_METRICS_SHEETNAME)"
   ]
  },
  {
   "cell_type": "code",
   "execution_count": 12,
   "metadata": {},
   "outputs": [
    {
     "name": "stdout",
     "output_type": "stream",
     "text": [
      "new metrics identified: 4656\n",
      "uploading data\n",
      "from: C:\\Users\\carmelo.urena\\Documents\\Main\\OneDrive_BAK\\Amex\\DigitalQA\\SharePoint\\sharepoint_api\\assets\\Digital_mapping.xlsx\n",
      "to: Measurement%20%20Analytics%20Folder/GABM/Global%20Analytics/DigitalQA/Digital/02Mapping\n",
      "\n"
     ]
    }
   ],
   "source": [
    "# get list of metrics\n",
    "metric_field = 'universal_metric' if media=='social' else 'metric'\n",
    "rs_metrics = list(df_rs_metrics[metric_field])\n",
    "cur_metrics = list(df_cur_metrics[metric_field])\n",
    "\n",
    "new_metrics = [m for m in rs_metrics if not(m in cur_metrics)]\n",
    "\n",
    "# if there is missing data, create a df\n",
    "if len(new_metrics) > 0:\n",
    "    print(f\"new metrics identified: {len(new_metrics)}\")\n",
    "    \n",
    "    # initiate openpyxl\n",
    "    wb = openpyxl.load_workbook(pth)\n",
    "    ws = wb[REDSHIFT_METRICS_SHEETNAME]\n",
    "    \n",
    "    starting_row = ws.max_row + 1\n",
    "    \n",
    "    if media in ['search', 'digital']:\n",
    "        for i in range(len(new_metrics)):\n",
    "            ws.cell(starting_row + i, 1).value = int(SharePoint.dt)\n",
    "            ws.cell(starting_row + i, 2).value = new_metrics[i]\n",
    "    elif media=='social':\n",
    "        rs_metrics_full = df_rs_metrics[df_rs_metrics['universal_metric'].isin(new_metrics)]\n",
    "        for i in range(len(new_metrics)):\n",
    "            ws.cell(starting_row + i, 1).value = int(SharePoint.dt)\n",
    "            ws.cell(starting_row + i, 2).value = rs_metrics_full.iloc[i, 0]\n",
    "            ws.cell(starting_row + i, 3).value = rs_metrics_full.iloc[i, 1]\n",
    "            ws.cell(starting_row + i, 4).value = rs_metrics_full.iloc[i, 2]\n",
    "    \n",
    "        \n",
    "    wb.save(pth)\n",
    "    wb.close()\n",
    "    \n",
    "    app.upload_files(SHAREPOINT_MAPPING_PATH, pth)\n",
    "else:\n",
    "    print('no metrics to update')"
   ]
  },
  {
   "cell_type": "markdown",
   "metadata": {},
   "source": [
    "# Function"
   ]
  },
  {
   "cell_type": "code",
   "execution_count": 16,
   "metadata": {},
   "outputs": [],
   "source": [
    "def metric_update():\n",
    "    '''Download metric mapping from SharePoint and append new metrics from RedShift database.'''\n",
    "    \n",
    "    # connect to SharePoint\n",
    "    app = SharePoint('AmericanExpressUSGABM')\n",
    "    app.list_contents(SHAREPOINT_MAPPING_PATH)\n",
    "    app.download_files(ASSETS_PATH)\n",
    "    \n",
    "    # get metrics from database\n",
    "    df_rs_metrics = run_qry(REDSHIFT_METRICS_QUERY)\n",
    "    \n",
    "    # import the SharePoint metric file\n",
    "    pth = glob.glob(os.path.join(ASSETS_PATH, f\"*{REDSHIFT_METRICS_FILENAME}*\"))[0]\n",
    "    df_cur_metrics = pd.read_excel(pth, sheet_name=REDSHIFT_METRICS_SHEETNAME)\n",
    "    \n",
    "    # get list of metrics\n",
    "    metric_field = 'universal_metric' if media=='social' else 'metric'\n",
    "    rs_metrics = list(df_rs_metrics[metric_field])\n",
    "    cur_metrics = list(df_cur_metrics[metric_field])\n",
    "\n",
    "    new_metrics = [m for m in rs_metrics if not(m in cur_metrics)]\n",
    "\n",
    "    # if there is missing data, create a df\n",
    "    if len(new_metrics) > 0:\n",
    "        print(f\"new metrics identified: {len(new_metrics)}\")\n",
    "\n",
    "        # initiate openpyxl\n",
    "        wb = openpyxl.load_workbook(pth)\n",
    "        ws = wb[REDSHIFT_METRICS_SHEETNAME]\n",
    "\n",
    "        starting_row = ws.max_row + 1\n",
    "\n",
    "        if media=='search':\n",
    "            for i in range(len(new_metrics)):\n",
    "                ws.cell(starting_row + i, 1).value = int(SharePoint.dt)\n",
    "                ws.cell(starting_row + i, 2).value = new_metrics[i]\n",
    "        elif media=='social':\n",
    "            rs_metrics_full = df_rs_metrics[df_rs_metrics['universal_metric'].isin(new_metrics)]\n",
    "            for i in range(len(new_metrics)):\n",
    "                ws.cell(starting_row + i, 1).value = int(SharePoint.dt)\n",
    "                ws.cell(starting_row + i, 2).value = rs_metrics_full.iloc[i, 0]\n",
    "                ws.cell(starting_row + i, 3).value = rs_metrics_full.iloc[i, 1]\n",
    "                ws.cell(starting_row + i, 4).value = rs_metrics_full.iloc[i, 2]\n",
    "\n",
    "\n",
    "        wb.save(pth)\n",
    "        wb.close()\n",
    "\n",
    "        app.upload_files(SHAREPOINT_MAPPING_PATH, pth)\n",
    "    else:\n",
    "        print('no metrics to update')"
   ]
  },
  {
   "cell_type": "code",
   "execution_count": null,
   "metadata": {},
   "outputs": [],
   "source": []
  }
 ],
 "metadata": {
  "kernelspec": {
   "display_name": "Python 3",
   "language": "python",
   "name": "python3"
  },
  "language_info": {
   "codemirror_mode": {
    "name": "ipython",
    "version": 3
   },
   "file_extension": ".py",
   "mimetype": "text/x-python",
   "name": "python",
   "nbconvert_exporter": "python",
   "pygments_lexer": "ipython3",
   "version": "3.7.2"
  }
 },
 "nbformat": 4,
 "nbformat_minor": 2
}
