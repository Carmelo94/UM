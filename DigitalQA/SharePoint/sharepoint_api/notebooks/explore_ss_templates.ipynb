{
 "cells": [
  {
   "cell_type": "code",
   "execution_count": 1,
   "metadata": {},
   "outputs": [
    {
     "data": {
      "text/html": [
       "<style>.container { width:80% !important; }</style>"
      ],
      "text/plain": [
       "<IPython.core.display.HTML object>"
      ]
     },
     "metadata": {},
     "output_type": "display_data"
    }
   ],
   "source": [
    "from IPython.core.display import display, HTML\n",
    "display(HTML(\"<style>.container { width:80% !important; }</style>\"))\n",
    "\n",
    "from datetime import datetime\n",
    "import openpyxl\n",
    "import pandas as pd\n",
    "import numpy as np\n",
    "import time\n",
    "import glob\n",
    "import sys\n",
    "import os\n",
    "\n",
    "import sys\n",
    "sys.path.append('../utils')\n",
    "# from SharePoint import *\n",
    "from hlpr import *\n",
    "\n",
    "import plotly.express as px"
   ]
  },
  {
   "cell_type": "code",
   "execution_count": 2,
   "metadata": {},
   "outputs": [],
   "source": [
    "files = glob.glob(os.path.join('../data', '*xlsx'))\n",
    "\n",
    "# dfs_dict = {os.path.split(f)[-1]: pd.read_excel(f) for f in files}"
   ]
  },
  {
   "cell_type": "code",
   "execution_count": null,
   "metadata": {},
   "outputs": [],
   "source": []
  },
  {
   "cell_type": "markdown",
   "metadata": {},
   "source": [
    "**Files with Pivot Table as the First Sheet**"
   ]
  },
  {
   "cell_type": "code",
   "execution_count": 25,
   "metadata": {
    "scrolled": false
   },
   "outputs": [
    {
     "name": "stdout",
     "output_type": "stream",
     "text": [
      "20210115190405944999_Amex Site Served Template_SBS_Group9_11.23.20.xlsx \n",
      "\n",
      "['Ad Name', '(Multiple Items)', 'Unnamed: 2', 'Unnamed: 3', 'Unnamed: 4'] \n",
      "\n",
      "----------------------------------------------------------------------------------------------------\n",
      "20210115191919501723_Amex Site Served Template_SBS_Group9_11.30.20.xlsx \n",
      "\n",
      "['Ad Name', '(All)', 'Unnamed: 2', 'Unnamed: 3', 'Unnamed: 4', 'Unnamed: 5'] \n",
      "\n",
      "----------------------------------------------------------------------------------------------------\n"
     ]
    }
   ],
   "source": [
    "cols_list = []\n",
    "for k in dfs_dict.keys():\n",
    "    df = dfs_dict[k]\n",
    "    cols = list(df.columns)\n",
    "    cols_list.append()\n",
    "    if cols[0] != 'Date':\n",
    "        print(k,'\\n')\n",
    "        print(cols,'\\n')\n",
    "        print(f\"{'-'*100}\")"
   ]
  },
  {
   "cell_type": "markdown",
   "metadata": {},
   "source": [
    "**Column Name Frequencies**"
   ]
  },
  {
   "cell_type": "code",
   "execution_count": 79,
   "metadata": {},
   "outputs": [
    {
     "data": {
      "application/vnd.plotly.v1+json": {
       "config": {
        "plotlyServerURL": "https://plot.ly"
       },
       "data": [
        {
         "alignmentgroup": "True",
         "hoverlabel": {
          "namelength": 0
         },
         "hovertemplate": "column=%{x}<br>freq=%{marker.color}",
         "legendgroup": "",
         "marker": {
          "color": [
           53,
           53,
           53,
           53,
           53,
           53,
           53,
           53,
           53,
           53,
           53,
           53,
           53,
           53,
           53,
           53,
           53,
           50,
           50,
           50,
           53,
           1,
           1
          ],
          "coloraxis": "coloraxis"
         },
         "name": "",
         "offsetgroup": "",
         "orientation": "v",
         "showlegend": false,
         "textposition": "auto",
         "type": "bar",
         "x": [
          "Date",
          "Campaign Name",
          "Publisher (Site)",
          "Placement Name",
          "Placement Id",
          "Spend",
          "Impressions",
          "Clicks",
          "Video Plays",
          "1st Quartile Views",
          "2nd Quartile Views",
          "3rd Quartile Views",
          "Video Completions",
          "Spend Override",
          "Impressions Override",
          "Clicks Override",
          "Video Plays Override ",
          "1st Quartile Views Override",
          "2nd Quartile Views Override",
          "3rd Quartile Views Override",
          "Video Completions Override",
          "Unnamed: 21",
          "Unnamed: 22"
         ],
         "xaxis": "x",
         "y": [
          53,
          53,
          53,
          53,
          53,
          53,
          53,
          53,
          53,
          53,
          53,
          53,
          53,
          53,
          53,
          53,
          53,
          50,
          50,
          50,
          53,
          1,
          1
         ],
         "yaxis": "y"
        }
       ],
       "layout": {
        "barmode": "relative",
        "coloraxis": {
         "colorbar": {
          "title": {
           "text": "freq"
          }
         },
         "colorscale": [
          [
           0,
           "#0d0887"
          ],
          [
           0.1111111111111111,
           "#46039f"
          ],
          [
           0.2222222222222222,
           "#7201a8"
          ],
          [
           0.3333333333333333,
           "#9c179e"
          ],
          [
           0.4444444444444444,
           "#bd3786"
          ],
          [
           0.5555555555555556,
           "#d8576b"
          ],
          [
           0.6666666666666666,
           "#ed7953"
          ],
          [
           0.7777777777777778,
           "#fb9f3a"
          ],
          [
           0.8888888888888888,
           "#fdca26"
          ],
          [
           1,
           "#f0f921"
          ]
         ]
        },
        "legend": {
         "tracegroupgap": 0
        },
        "margin": {
         "t": 60
        },
        "template": {
         "data": {
          "bar": [
           {
            "error_x": {
             "color": "#2a3f5f"
            },
            "error_y": {
             "color": "#2a3f5f"
            },
            "marker": {
             "line": {
              "color": "#E5ECF6",
              "width": 0.5
             }
            },
            "type": "bar"
           }
          ],
          "barpolar": [
           {
            "marker": {
             "line": {
              "color": "#E5ECF6",
              "width": 0.5
             }
            },
            "type": "barpolar"
           }
          ],
          "carpet": [
           {
            "aaxis": {
             "endlinecolor": "#2a3f5f",
             "gridcolor": "white",
             "linecolor": "white",
             "minorgridcolor": "white",
             "startlinecolor": "#2a3f5f"
            },
            "baxis": {
             "endlinecolor": "#2a3f5f",
             "gridcolor": "white",
             "linecolor": "white",
             "minorgridcolor": "white",
             "startlinecolor": "#2a3f5f"
            },
            "type": "carpet"
           }
          ],
          "choropleth": [
           {
            "colorbar": {
             "outlinewidth": 0,
             "ticks": ""
            },
            "type": "choropleth"
           }
          ],
          "contour": [
           {
            "colorbar": {
             "outlinewidth": 0,
             "ticks": ""
            },
            "colorscale": [
             [
              0,
              "#0d0887"
             ],
             [
              0.1111111111111111,
              "#46039f"
             ],
             [
              0.2222222222222222,
              "#7201a8"
             ],
             [
              0.3333333333333333,
              "#9c179e"
             ],
             [
              0.4444444444444444,
              "#bd3786"
             ],
             [
              0.5555555555555556,
              "#d8576b"
             ],
             [
              0.6666666666666666,
              "#ed7953"
             ],
             [
              0.7777777777777778,
              "#fb9f3a"
             ],
             [
              0.8888888888888888,
              "#fdca26"
             ],
             [
              1,
              "#f0f921"
             ]
            ],
            "type": "contour"
           }
          ],
          "contourcarpet": [
           {
            "colorbar": {
             "outlinewidth": 0,
             "ticks": ""
            },
            "type": "contourcarpet"
           }
          ],
          "heatmap": [
           {
            "colorbar": {
             "outlinewidth": 0,
             "ticks": ""
            },
            "colorscale": [
             [
              0,
              "#0d0887"
             ],
             [
              0.1111111111111111,
              "#46039f"
             ],
             [
              0.2222222222222222,
              "#7201a8"
             ],
             [
              0.3333333333333333,
              "#9c179e"
             ],
             [
              0.4444444444444444,
              "#bd3786"
             ],
             [
              0.5555555555555556,
              "#d8576b"
             ],
             [
              0.6666666666666666,
              "#ed7953"
             ],
             [
              0.7777777777777778,
              "#fb9f3a"
             ],
             [
              0.8888888888888888,
              "#fdca26"
             ],
             [
              1,
              "#f0f921"
             ]
            ],
            "type": "heatmap"
           }
          ],
          "heatmapgl": [
           {
            "colorbar": {
             "outlinewidth": 0,
             "ticks": ""
            },
            "colorscale": [
             [
              0,
              "#0d0887"
             ],
             [
              0.1111111111111111,
              "#46039f"
             ],
             [
              0.2222222222222222,
              "#7201a8"
             ],
             [
              0.3333333333333333,
              "#9c179e"
             ],
             [
              0.4444444444444444,
              "#bd3786"
             ],
             [
              0.5555555555555556,
              "#d8576b"
             ],
             [
              0.6666666666666666,
              "#ed7953"
             ],
             [
              0.7777777777777778,
              "#fb9f3a"
             ],
             [
              0.8888888888888888,
              "#fdca26"
             ],
             [
              1,
              "#f0f921"
             ]
            ],
            "type": "heatmapgl"
           }
          ],
          "histogram": [
           {
            "marker": {
             "colorbar": {
              "outlinewidth": 0,
              "ticks": ""
             }
            },
            "type": "histogram"
           }
          ],
          "histogram2d": [
           {
            "colorbar": {
             "outlinewidth": 0,
             "ticks": ""
            },
            "colorscale": [
             [
              0,
              "#0d0887"
             ],
             [
              0.1111111111111111,
              "#46039f"
             ],
             [
              0.2222222222222222,
              "#7201a8"
             ],
             [
              0.3333333333333333,
              "#9c179e"
             ],
             [
              0.4444444444444444,
              "#bd3786"
             ],
             [
              0.5555555555555556,
              "#d8576b"
             ],
             [
              0.6666666666666666,
              "#ed7953"
             ],
             [
              0.7777777777777778,
              "#fb9f3a"
             ],
             [
              0.8888888888888888,
              "#fdca26"
             ],
             [
              1,
              "#f0f921"
             ]
            ],
            "type": "histogram2d"
           }
          ],
          "histogram2dcontour": [
           {
            "colorbar": {
             "outlinewidth": 0,
             "ticks": ""
            },
            "colorscale": [
             [
              0,
              "#0d0887"
             ],
             [
              0.1111111111111111,
              "#46039f"
             ],
             [
              0.2222222222222222,
              "#7201a8"
             ],
             [
              0.3333333333333333,
              "#9c179e"
             ],
             [
              0.4444444444444444,
              "#bd3786"
             ],
             [
              0.5555555555555556,
              "#d8576b"
             ],
             [
              0.6666666666666666,
              "#ed7953"
             ],
             [
              0.7777777777777778,
              "#fb9f3a"
             ],
             [
              0.8888888888888888,
              "#fdca26"
             ],
             [
              1,
              "#f0f921"
             ]
            ],
            "type": "histogram2dcontour"
           }
          ],
          "mesh3d": [
           {
            "colorbar": {
             "outlinewidth": 0,
             "ticks": ""
            },
            "type": "mesh3d"
           }
          ],
          "parcoords": [
           {
            "line": {
             "colorbar": {
              "outlinewidth": 0,
              "ticks": ""
             }
            },
            "type": "parcoords"
           }
          ],
          "pie": [
           {
            "automargin": true,
            "type": "pie"
           }
          ],
          "scatter": [
           {
            "marker": {
             "colorbar": {
              "outlinewidth": 0,
              "ticks": ""
             }
            },
            "type": "scatter"
           }
          ],
          "scatter3d": [
           {
            "line": {
             "colorbar": {
              "outlinewidth": 0,
              "ticks": ""
             }
            },
            "marker": {
             "colorbar": {
              "outlinewidth": 0,
              "ticks": ""
             }
            },
            "type": "scatter3d"
           }
          ],
          "scattercarpet": [
           {
            "marker": {
             "colorbar": {
              "outlinewidth": 0,
              "ticks": ""
             }
            },
            "type": "scattercarpet"
           }
          ],
          "scattergeo": [
           {
            "marker": {
             "colorbar": {
              "outlinewidth": 0,
              "ticks": ""
             }
            },
            "type": "scattergeo"
           }
          ],
          "scattergl": [
           {
            "marker": {
             "colorbar": {
              "outlinewidth": 0,
              "ticks": ""
             }
            },
            "type": "scattergl"
           }
          ],
          "scattermapbox": [
           {
            "marker": {
             "colorbar": {
              "outlinewidth": 0,
              "ticks": ""
             }
            },
            "type": "scattermapbox"
           }
          ],
          "scatterpolar": [
           {
            "marker": {
             "colorbar": {
              "outlinewidth": 0,
              "ticks": ""
             }
            },
            "type": "scatterpolar"
           }
          ],
          "scatterpolargl": [
           {
            "marker": {
             "colorbar": {
              "outlinewidth": 0,
              "ticks": ""
             }
            },
            "type": "scatterpolargl"
           }
          ],
          "scatterternary": [
           {
            "marker": {
             "colorbar": {
              "outlinewidth": 0,
              "ticks": ""
             }
            },
            "type": "scatterternary"
           }
          ],
          "surface": [
           {
            "colorbar": {
             "outlinewidth": 0,
             "ticks": ""
            },
            "colorscale": [
             [
              0,
              "#0d0887"
             ],
             [
              0.1111111111111111,
              "#46039f"
             ],
             [
              0.2222222222222222,
              "#7201a8"
             ],
             [
              0.3333333333333333,
              "#9c179e"
             ],
             [
              0.4444444444444444,
              "#bd3786"
             ],
             [
              0.5555555555555556,
              "#d8576b"
             ],
             [
              0.6666666666666666,
              "#ed7953"
             ],
             [
              0.7777777777777778,
              "#fb9f3a"
             ],
             [
              0.8888888888888888,
              "#fdca26"
             ],
             [
              1,
              "#f0f921"
             ]
            ],
            "type": "surface"
           }
          ],
          "table": [
           {
            "cells": {
             "fill": {
              "color": "#EBF0F8"
             },
             "line": {
              "color": "white"
             }
            },
            "header": {
             "fill": {
              "color": "#C8D4E3"
             },
             "line": {
              "color": "white"
             }
            },
            "type": "table"
           }
          ]
         },
         "layout": {
          "annotationdefaults": {
           "arrowcolor": "#2a3f5f",
           "arrowhead": 0,
           "arrowwidth": 1
          },
          "coloraxis": {
           "colorbar": {
            "outlinewidth": 0,
            "ticks": ""
           }
          },
          "colorscale": {
           "diverging": [
            [
             0,
             "#8e0152"
            ],
            [
             0.1,
             "#c51b7d"
            ],
            [
             0.2,
             "#de77ae"
            ],
            [
             0.3,
             "#f1b6da"
            ],
            [
             0.4,
             "#fde0ef"
            ],
            [
             0.5,
             "#f7f7f7"
            ],
            [
             0.6,
             "#e6f5d0"
            ],
            [
             0.7,
             "#b8e186"
            ],
            [
             0.8,
             "#7fbc41"
            ],
            [
             0.9,
             "#4d9221"
            ],
            [
             1,
             "#276419"
            ]
           ],
           "sequential": [
            [
             0,
             "#0d0887"
            ],
            [
             0.1111111111111111,
             "#46039f"
            ],
            [
             0.2222222222222222,
             "#7201a8"
            ],
            [
             0.3333333333333333,
             "#9c179e"
            ],
            [
             0.4444444444444444,
             "#bd3786"
            ],
            [
             0.5555555555555556,
             "#d8576b"
            ],
            [
             0.6666666666666666,
             "#ed7953"
            ],
            [
             0.7777777777777778,
             "#fb9f3a"
            ],
            [
             0.8888888888888888,
             "#fdca26"
            ],
            [
             1,
             "#f0f921"
            ]
           ],
           "sequentialminus": [
            [
             0,
             "#0d0887"
            ],
            [
             0.1111111111111111,
             "#46039f"
            ],
            [
             0.2222222222222222,
             "#7201a8"
            ],
            [
             0.3333333333333333,
             "#9c179e"
            ],
            [
             0.4444444444444444,
             "#bd3786"
            ],
            [
             0.5555555555555556,
             "#d8576b"
            ],
            [
             0.6666666666666666,
             "#ed7953"
            ],
            [
             0.7777777777777778,
             "#fb9f3a"
            ],
            [
             0.8888888888888888,
             "#fdca26"
            ],
            [
             1,
             "#f0f921"
            ]
           ]
          },
          "colorway": [
           "#636efa",
           "#EF553B",
           "#00cc96",
           "#ab63fa",
           "#FFA15A",
           "#19d3f3",
           "#FF6692",
           "#B6E880",
           "#FF97FF",
           "#FECB52"
          ],
          "font": {
           "color": "#2a3f5f"
          },
          "geo": {
           "bgcolor": "white",
           "lakecolor": "white",
           "landcolor": "#E5ECF6",
           "showlakes": true,
           "showland": true,
           "subunitcolor": "white"
          },
          "hoverlabel": {
           "align": "left"
          },
          "hovermode": "closest",
          "mapbox": {
           "style": "light"
          },
          "paper_bgcolor": "white",
          "plot_bgcolor": "#E5ECF6",
          "polar": {
           "angularaxis": {
            "gridcolor": "white",
            "linecolor": "white",
            "ticks": ""
           },
           "bgcolor": "#E5ECF6",
           "radialaxis": {
            "gridcolor": "white",
            "linecolor": "white",
            "ticks": ""
           }
          },
          "scene": {
           "xaxis": {
            "backgroundcolor": "#E5ECF6",
            "gridcolor": "white",
            "gridwidth": 2,
            "linecolor": "white",
            "showbackground": true,
            "ticks": "",
            "zerolinecolor": "white"
           },
           "yaxis": {
            "backgroundcolor": "#E5ECF6",
            "gridcolor": "white",
            "gridwidth": 2,
            "linecolor": "white",
            "showbackground": true,
            "ticks": "",
            "zerolinecolor": "white"
           },
           "zaxis": {
            "backgroundcolor": "#E5ECF6",
            "gridcolor": "white",
            "gridwidth": 2,
            "linecolor": "white",
            "showbackground": true,
            "ticks": "",
            "zerolinecolor": "white"
           }
          },
          "shapedefaults": {
           "line": {
            "color": "#2a3f5f"
           }
          },
          "ternary": {
           "aaxis": {
            "gridcolor": "white",
            "linecolor": "white",
            "ticks": ""
           },
           "baxis": {
            "gridcolor": "white",
            "linecolor": "white",
            "ticks": ""
           },
           "bgcolor": "#E5ECF6",
           "caxis": {
            "gridcolor": "white",
            "linecolor": "white",
            "ticks": ""
           }
          },
          "title": {
           "x": 0.05
          },
          "xaxis": {
           "automargin": true,
           "gridcolor": "white",
           "linecolor": "white",
           "ticks": "",
           "title": {
            "standoff": 15
           },
           "zerolinecolor": "white",
           "zerolinewidth": 2
          },
          "yaxis": {
           "automargin": true,
           "gridcolor": "white",
           "linecolor": "white",
           "ticks": "",
           "title": {
            "standoff": 15
           },
           "zerolinecolor": "white",
           "zerolinewidth": 2
          }
         }
        },
        "xaxis": {
         "anchor": "y",
         "domain": [
          0,
          1
         ],
         "title": {
          "text": "column"
         }
        },
        "yaxis": {
         "anchor": "x",
         "domain": [
          0,
          1
         ],
         "title": {
          "text": "freq"
         }
        }
       }
      },
      "text/html": [
       "<div>\n",
       "        \n",
       "        \n",
       "            <div id=\"1c381173-6d7b-4dd0-a30f-8837ec90c26e\" class=\"plotly-graph-div\" style=\"height:525px; width:100%;\"></div>\n",
       "            <script type=\"text/javascript\">\n",
       "                require([\"plotly\"], function(Plotly) {\n",
       "                    window.PLOTLYENV=window.PLOTLYENV || {};\n",
       "                    \n",
       "                if (document.getElementById(\"1c381173-6d7b-4dd0-a30f-8837ec90c26e\")) {\n",
       "                    Plotly.newPlot(\n",
       "                        '1c381173-6d7b-4dd0-a30f-8837ec90c26e',\n",
       "                        [{\"alignmentgroup\": \"True\", \"hoverlabel\": {\"namelength\": 0}, \"hovertemplate\": \"column=%{x}<br>freq=%{marker.color}\", \"legendgroup\": \"\", \"marker\": {\"color\": [53, 53, 53, 53, 53, 53, 53, 53, 53, 53, 53, 53, 53, 53, 53, 53, 53, 50, 50, 50, 53, 1, 1], \"coloraxis\": \"coloraxis\"}, \"name\": \"\", \"offsetgroup\": \"\", \"orientation\": \"v\", \"showlegend\": false, \"textposition\": \"auto\", \"type\": \"bar\", \"x\": [\"Date\", \"Campaign Name\", \"Publisher (Site)\", \"Placement Name\", \"Placement Id\", \"Spend\", \"Impressions\", \"Clicks\", \"Video Plays\", \"1st Quartile Views\", \"2nd Quartile Views\", \"3rd Quartile Views\", \"Video Completions\", \"Spend Override\", \"Impressions Override\", \"Clicks Override\", \"Video Plays Override \", \"1st Quartile Views Override\", \"2nd Quartile Views Override\", \"3rd Quartile Views Override\", \"Video Completions Override\", \"Unnamed: 21\", \"Unnamed: 22\"], \"xaxis\": \"x\", \"y\": [53, 53, 53, 53, 53, 53, 53, 53, 53, 53, 53, 53, 53, 53, 53, 53, 53, 50, 50, 50, 53, 1, 1], \"yaxis\": \"y\"}],\n",
       "                        {\"barmode\": \"relative\", \"coloraxis\": {\"colorbar\": {\"title\": {\"text\": \"freq\"}}, \"colorscale\": [[0.0, \"#0d0887\"], [0.1111111111111111, \"#46039f\"], [0.2222222222222222, \"#7201a8\"], [0.3333333333333333, \"#9c179e\"], [0.4444444444444444, \"#bd3786\"], [0.5555555555555556, \"#d8576b\"], [0.6666666666666666, \"#ed7953\"], [0.7777777777777778, \"#fb9f3a\"], [0.8888888888888888, \"#fdca26\"], [1.0, \"#f0f921\"]]}, \"legend\": {\"tracegroupgap\": 0}, \"margin\": {\"t\": 60}, \"template\": {\"data\": {\"bar\": [{\"error_x\": {\"color\": \"#2a3f5f\"}, \"error_y\": {\"color\": \"#2a3f5f\"}, \"marker\": {\"line\": {\"color\": \"#E5ECF6\", \"width\": 0.5}}, \"type\": \"bar\"}], \"barpolar\": [{\"marker\": {\"line\": {\"color\": \"#E5ECF6\", \"width\": 0.5}}, \"type\": \"barpolar\"}], \"carpet\": [{\"aaxis\": {\"endlinecolor\": \"#2a3f5f\", \"gridcolor\": \"white\", \"linecolor\": \"white\", \"minorgridcolor\": \"white\", \"startlinecolor\": \"#2a3f5f\"}, \"baxis\": {\"endlinecolor\": \"#2a3f5f\", \"gridcolor\": \"white\", \"linecolor\": \"white\", \"minorgridcolor\": \"white\", \"startlinecolor\": \"#2a3f5f\"}, \"type\": \"carpet\"}], \"choropleth\": [{\"colorbar\": {\"outlinewidth\": 0, \"ticks\": \"\"}, \"type\": \"choropleth\"}], \"contour\": [{\"colorbar\": {\"outlinewidth\": 0, \"ticks\": \"\"}, \"colorscale\": [[0.0, \"#0d0887\"], [0.1111111111111111, \"#46039f\"], [0.2222222222222222, \"#7201a8\"], [0.3333333333333333, \"#9c179e\"], [0.4444444444444444, \"#bd3786\"], [0.5555555555555556, \"#d8576b\"], [0.6666666666666666, \"#ed7953\"], [0.7777777777777778, \"#fb9f3a\"], [0.8888888888888888, \"#fdca26\"], [1.0, \"#f0f921\"]], \"type\": \"contour\"}], \"contourcarpet\": [{\"colorbar\": {\"outlinewidth\": 0, \"ticks\": \"\"}, \"type\": \"contourcarpet\"}], \"heatmap\": [{\"colorbar\": {\"outlinewidth\": 0, \"ticks\": \"\"}, \"colorscale\": [[0.0, \"#0d0887\"], [0.1111111111111111, \"#46039f\"], [0.2222222222222222, \"#7201a8\"], [0.3333333333333333, \"#9c179e\"], [0.4444444444444444, \"#bd3786\"], [0.5555555555555556, \"#d8576b\"], [0.6666666666666666, \"#ed7953\"], [0.7777777777777778, \"#fb9f3a\"], [0.8888888888888888, \"#fdca26\"], [1.0, \"#f0f921\"]], \"type\": \"heatmap\"}], \"heatmapgl\": [{\"colorbar\": {\"outlinewidth\": 0, \"ticks\": \"\"}, \"colorscale\": [[0.0, \"#0d0887\"], [0.1111111111111111, \"#46039f\"], [0.2222222222222222, \"#7201a8\"], [0.3333333333333333, \"#9c179e\"], [0.4444444444444444, \"#bd3786\"], [0.5555555555555556, \"#d8576b\"], [0.6666666666666666, \"#ed7953\"], [0.7777777777777778, \"#fb9f3a\"], [0.8888888888888888, \"#fdca26\"], [1.0, \"#f0f921\"]], \"type\": \"heatmapgl\"}], \"histogram\": [{\"marker\": {\"colorbar\": {\"outlinewidth\": 0, \"ticks\": \"\"}}, \"type\": \"histogram\"}], \"histogram2d\": [{\"colorbar\": {\"outlinewidth\": 0, \"ticks\": \"\"}, \"colorscale\": [[0.0, \"#0d0887\"], [0.1111111111111111, \"#46039f\"], [0.2222222222222222, \"#7201a8\"], [0.3333333333333333, \"#9c179e\"], [0.4444444444444444, \"#bd3786\"], [0.5555555555555556, \"#d8576b\"], [0.6666666666666666, \"#ed7953\"], [0.7777777777777778, \"#fb9f3a\"], [0.8888888888888888, \"#fdca26\"], [1.0, \"#f0f921\"]], \"type\": \"histogram2d\"}], \"histogram2dcontour\": [{\"colorbar\": {\"outlinewidth\": 0, \"ticks\": \"\"}, \"colorscale\": [[0.0, \"#0d0887\"], [0.1111111111111111, \"#46039f\"], [0.2222222222222222, \"#7201a8\"], [0.3333333333333333, \"#9c179e\"], [0.4444444444444444, \"#bd3786\"], [0.5555555555555556, \"#d8576b\"], [0.6666666666666666, \"#ed7953\"], [0.7777777777777778, \"#fb9f3a\"], [0.8888888888888888, \"#fdca26\"], [1.0, \"#f0f921\"]], \"type\": \"histogram2dcontour\"}], \"mesh3d\": [{\"colorbar\": {\"outlinewidth\": 0, \"ticks\": \"\"}, \"type\": \"mesh3d\"}], \"parcoords\": [{\"line\": {\"colorbar\": {\"outlinewidth\": 0, \"ticks\": \"\"}}, \"type\": \"parcoords\"}], \"pie\": [{\"automargin\": true, \"type\": \"pie\"}], \"scatter\": [{\"marker\": {\"colorbar\": {\"outlinewidth\": 0, \"ticks\": \"\"}}, \"type\": \"scatter\"}], \"scatter3d\": [{\"line\": {\"colorbar\": {\"outlinewidth\": 0, \"ticks\": \"\"}}, \"marker\": {\"colorbar\": {\"outlinewidth\": 0, \"ticks\": \"\"}}, \"type\": \"scatter3d\"}], \"scattercarpet\": [{\"marker\": {\"colorbar\": {\"outlinewidth\": 0, \"ticks\": \"\"}}, \"type\": \"scattercarpet\"}], \"scattergeo\": [{\"marker\": {\"colorbar\": {\"outlinewidth\": 0, \"ticks\": \"\"}}, \"type\": \"scattergeo\"}], \"scattergl\": [{\"marker\": {\"colorbar\": {\"outlinewidth\": 0, \"ticks\": \"\"}}, \"type\": \"scattergl\"}], \"scattermapbox\": [{\"marker\": {\"colorbar\": {\"outlinewidth\": 0, \"ticks\": \"\"}}, \"type\": \"scattermapbox\"}], \"scatterpolar\": [{\"marker\": {\"colorbar\": {\"outlinewidth\": 0, \"ticks\": \"\"}}, \"type\": \"scatterpolar\"}], \"scatterpolargl\": [{\"marker\": {\"colorbar\": {\"outlinewidth\": 0, \"ticks\": \"\"}}, \"type\": \"scatterpolargl\"}], \"scatterternary\": [{\"marker\": {\"colorbar\": {\"outlinewidth\": 0, \"ticks\": \"\"}}, \"type\": \"scatterternary\"}], \"surface\": [{\"colorbar\": {\"outlinewidth\": 0, \"ticks\": \"\"}, \"colorscale\": [[0.0, \"#0d0887\"], [0.1111111111111111, \"#46039f\"], [0.2222222222222222, \"#7201a8\"], [0.3333333333333333, \"#9c179e\"], [0.4444444444444444, \"#bd3786\"], [0.5555555555555556, \"#d8576b\"], [0.6666666666666666, \"#ed7953\"], [0.7777777777777778, \"#fb9f3a\"], [0.8888888888888888, \"#fdca26\"], [1.0, \"#f0f921\"]], \"type\": \"surface\"}], \"table\": [{\"cells\": {\"fill\": {\"color\": \"#EBF0F8\"}, \"line\": {\"color\": \"white\"}}, \"header\": {\"fill\": {\"color\": \"#C8D4E3\"}, \"line\": {\"color\": \"white\"}}, \"type\": \"table\"}]}, \"layout\": {\"annotationdefaults\": {\"arrowcolor\": \"#2a3f5f\", \"arrowhead\": 0, \"arrowwidth\": 1}, \"coloraxis\": {\"colorbar\": {\"outlinewidth\": 0, \"ticks\": \"\"}}, \"colorscale\": {\"diverging\": [[0, \"#8e0152\"], [0.1, \"#c51b7d\"], [0.2, \"#de77ae\"], [0.3, \"#f1b6da\"], [0.4, \"#fde0ef\"], [0.5, \"#f7f7f7\"], [0.6, \"#e6f5d0\"], [0.7, \"#b8e186\"], [0.8, \"#7fbc41\"], [0.9, \"#4d9221\"], [1, \"#276419\"]], \"sequential\": [[0.0, \"#0d0887\"], [0.1111111111111111, \"#46039f\"], [0.2222222222222222, \"#7201a8\"], [0.3333333333333333, \"#9c179e\"], [0.4444444444444444, \"#bd3786\"], [0.5555555555555556, \"#d8576b\"], [0.6666666666666666, \"#ed7953\"], [0.7777777777777778, \"#fb9f3a\"], [0.8888888888888888, \"#fdca26\"], [1.0, \"#f0f921\"]], \"sequentialminus\": [[0.0, \"#0d0887\"], [0.1111111111111111, \"#46039f\"], [0.2222222222222222, \"#7201a8\"], [0.3333333333333333, \"#9c179e\"], [0.4444444444444444, \"#bd3786\"], [0.5555555555555556, \"#d8576b\"], [0.6666666666666666, \"#ed7953\"], [0.7777777777777778, \"#fb9f3a\"], [0.8888888888888888, \"#fdca26\"], [1.0, \"#f0f921\"]]}, \"colorway\": [\"#636efa\", \"#EF553B\", \"#00cc96\", \"#ab63fa\", \"#FFA15A\", \"#19d3f3\", \"#FF6692\", \"#B6E880\", \"#FF97FF\", \"#FECB52\"], \"font\": {\"color\": \"#2a3f5f\"}, \"geo\": {\"bgcolor\": \"white\", \"lakecolor\": \"white\", \"landcolor\": \"#E5ECF6\", \"showlakes\": true, \"showland\": true, \"subunitcolor\": \"white\"}, \"hoverlabel\": {\"align\": \"left\"}, \"hovermode\": \"closest\", \"mapbox\": {\"style\": \"light\"}, \"paper_bgcolor\": \"white\", \"plot_bgcolor\": \"#E5ECF6\", \"polar\": {\"angularaxis\": {\"gridcolor\": \"white\", \"linecolor\": \"white\", \"ticks\": \"\"}, \"bgcolor\": \"#E5ECF6\", \"radialaxis\": {\"gridcolor\": \"white\", \"linecolor\": \"white\", \"ticks\": \"\"}}, \"scene\": {\"xaxis\": {\"backgroundcolor\": \"#E5ECF6\", \"gridcolor\": \"white\", \"gridwidth\": 2, \"linecolor\": \"white\", \"showbackground\": true, \"ticks\": \"\", \"zerolinecolor\": \"white\"}, \"yaxis\": {\"backgroundcolor\": \"#E5ECF6\", \"gridcolor\": \"white\", \"gridwidth\": 2, \"linecolor\": \"white\", \"showbackground\": true, \"ticks\": \"\", \"zerolinecolor\": \"white\"}, \"zaxis\": {\"backgroundcolor\": \"#E5ECF6\", \"gridcolor\": \"white\", \"gridwidth\": 2, \"linecolor\": \"white\", \"showbackground\": true, \"ticks\": \"\", \"zerolinecolor\": \"white\"}}, \"shapedefaults\": {\"line\": {\"color\": \"#2a3f5f\"}}, \"ternary\": {\"aaxis\": {\"gridcolor\": \"white\", \"linecolor\": \"white\", \"ticks\": \"\"}, \"baxis\": {\"gridcolor\": \"white\", \"linecolor\": \"white\", \"ticks\": \"\"}, \"bgcolor\": \"#E5ECF6\", \"caxis\": {\"gridcolor\": \"white\", \"linecolor\": \"white\", \"ticks\": \"\"}}, \"title\": {\"x\": 0.05}, \"xaxis\": {\"automargin\": true, \"gridcolor\": \"white\", \"linecolor\": \"white\", \"ticks\": \"\", \"title\": {\"standoff\": 15}, \"zerolinecolor\": \"white\", \"zerolinewidth\": 2}, \"yaxis\": {\"automargin\": true, \"gridcolor\": \"white\", \"linecolor\": \"white\", \"ticks\": \"\", \"title\": {\"standoff\": 15}, \"zerolinecolor\": \"white\", \"zerolinewidth\": 2}}}, \"xaxis\": {\"anchor\": \"y\", \"domain\": [0.0, 1.0], \"title\": {\"text\": \"column\"}}, \"yaxis\": {\"anchor\": \"x\", \"domain\": [0.0, 1.0], \"title\": {\"text\": \"freq\"}}},\n",
       "                        {\"responsive\": true}\n",
       "                    ).then(function(){\n",
       "                            \n",
       "var gd = document.getElementById('1c381173-6d7b-4dd0-a30f-8837ec90c26e');\n",
       "var x = new MutationObserver(function (mutations, observer) {{\n",
       "        var display = window.getComputedStyle(gd).display;\n",
       "        if (!display || display === 'none') {{\n",
       "            console.log([gd, 'removed!']);\n",
       "            Plotly.purge(gd);\n",
       "            observer.disconnect();\n",
       "        }}\n",
       "}});\n",
       "\n",
       "// Listen for the removal of the full notebook cells\n",
       "var notebookContainer = gd.closest('#notebook-container');\n",
       "if (notebookContainer) {{\n",
       "    x.observe(notebookContainer, {childList: true});\n",
       "}}\n",
       "\n",
       "// Listen for the clearing of the current output cell\n",
       "var outputEl = gd.closest('.output');\n",
       "if (outputEl) {{\n",
       "    x.observe(outputEl, {childList: true});\n",
       "}}\n",
       "\n",
       "                        })\n",
       "                };\n",
       "                });\n",
       "            </script>\n",
       "        </div>"
      ]
     },
     "metadata": {},
     "output_type": "display_data"
    }
   ],
   "source": [
    "df_cols = pd.DataFrame(cols_list).describe()\n",
    "df_cols = pd.DataFrame(list(zip(df_cols.iloc[2, :], df_cols.iloc[3, :])), columns=['column', 'freq'])\n",
    "\n",
    "fig = px.bar(data_frame=df_cols, x='column', y='freq', color='freq')\n",
    "fig.show()"
   ]
  },
  {
   "cell_type": "markdown",
   "metadata": {},
   "source": [
    "**Functions**"
   ]
  },
  {
   "cell_type": "code",
   "execution_count": 491,
   "metadata": {},
   "outputs": [],
   "source": [
    "def parse_ss_filename(x):\n",
    "    '''\n",
    "    Parse Site Served template filename to timestamp and filename\n",
    "    '''\n",
    "    # find the last occurence of '.' and last occurence of '_'\n",
    "    x_cut = x[:x.rfind('.')]\n",
    "    if 'v' in x_cut[-2:].lower():\n",
    "        filename_raw = x_cut[x_cut.find('_')+1:-3]\n",
    "    else:\n",
    "        filename_raw = x_cut[x_cut.find('_')+1:]\n",
    "\n",
    "    # find the 1st '_'\n",
    "    timestamp = float(x_cut[:x_cut.find('_')])\n",
    "\n",
    "    return filename_raw, timestamp"
   ]
  },
  {
   "cell_type": "code",
   "execution_count": 492,
   "metadata": {},
   "outputs": [],
   "source": [
    "def latest_ss_filename(filename_parse_list):\n",
    "    df_filename = pd.DataFrame(filename_parse_list, columns=['filename', 'filename_raw', 'timestamp'])\n",
    "    df_filename['max_timestamp'] = df_filename.groupby(['filename_raw'])['timestamp'].transform(max)\n",
    "    df_filename['bool'] = df_filename['timestamp'] == df_filename['max_timestamp']\n",
    "    filenames = list(df_filename[df_filename['bool']==True]['filename'])\n",
    "\n",
    "    return filenames"
   ]
  },
  {
   "cell_type": "code",
   "execution_count": 505,
   "metadata": {
    "scrolled": false
   },
   "outputs": [],
   "source": [
    "def process_ss(ss_files):\n",
    "    dfs_dict = {os.path.split(f)[-1]: pd.read_excel(f) for f in ss_files}\n",
    "\n",
    "    filename_parse_list = []\n",
    "    dfs_list = []\n",
    "    for k in dfs_dict.keys():\n",
    "        df = dfs_dict[k]\n",
    "        df['filename'] = k\n",
    "        filename_parse_results = parse_ss_filename(k)\n",
    "        filename_parse_list.append([k, filename_parse_results[0], filename_parse_results[1]])\n",
    "        cols = list(df.columns)\n",
    "        if 'date' in [c.lower() for c in cols]:\n",
    "            df.rename(columns={c: c.strip().lower() for c in df.columns}, inplace=True) # remove trailing space and make lower \n",
    "            dfs_list.append(df)\n",
    "\n",
    "    # get list of the latest filenames\n",
    "    latest_ss = latest_ss_filename(filename_parse_list)\n",
    "\n",
    "    # combine and filter to the latest filename\n",
    "    df = pd.concat(dfs_list, sort=True)\n",
    "    df = df[df['filename'].isin(latest_ss)].reset_index(drop=True)\n",
    "\n",
    "    # remove quartule and unnamed metrics\n",
    "    col_filter = [c for c in df.columns if not('quartile' in c) and not('unnamed' in c)]\n",
    "    df = df[col_filter]\n",
    "    df['date'] = pd.to_datetime(df['date'])\n",
    "\n",
    "    # split col by metrics, override, and dimensions\n",
    "    metrics = ['clicks', 'spend', 'impressions', 'video plays', 'video completions']\n",
    "    override = [c for c in df.columns if 'override' in c]\n",
    "    dims = [c for c in df.columns if not(c in metrics) and not(c in override)]\n",
    "    df = df[dims + metrics + override]\n",
    "\n",
    "    # pair up the metric and override\n",
    "    metric_override_pair = []\n",
    "    for m in metrics:\n",
    "        for o in override:\n",
    "            if m in o:\n",
    "                metric_override_pair.append([m, o])\n",
    "\n",
    "\n",
    "    df_temp_list = []\n",
    "    for p in metric_override_pair:\n",
    "        df_temp = df.copy()\n",
    "        df_temp = df_temp[dims + p]\n",
    "        df_temp['metric'] = p[0]\n",
    "        df_temp.rename(columns={p[0]:'value', p[1]:'override'}, inplace=True)\n",
    "        df_temp_list.append(df_temp)\n",
    "\n",
    "    df_trans = pd.concat(df_temp_list, sort=False)\n",
    "    df_trans['value'] = df_trans['value'].fillna(0)\n",
    "    df_trans['value'] = df_trans['value'].map(str).replace('-', None)\n",
    "    df_trans['value'] = pd.to_numeric(df_trans['value'])\n",
    "\n",
    "    # replace override and keep True\n",
    "    df_trans['override'] = df_trans['override'].apply(lambda x: True if 'x' in str(x).lower() else False)\n",
    "    df_trans = df_trans[df_trans['override']==True]\n",
    "    df_trans.drop(columns=['filename', 'override'], inplace=True)\n",
    "    df_trans.reset_index(drop=True, inplace=True)\n",
    "    \n",
    "    return df_trans"
   ]
  },
  {
   "cell_type": "code",
   "execution_count": 506,
   "metadata": {},
   "outputs": [
    {
     "data": {
      "text/html": [
       "<div>\n",
       "<style scoped>\n",
       "    .dataframe tbody tr th:only-of-type {\n",
       "        vertical-align: middle;\n",
       "    }\n",
       "\n",
       "    .dataframe tbody tr th {\n",
       "        vertical-align: top;\n",
       "    }\n",
       "\n",
       "    .dataframe thead th {\n",
       "        text-align: right;\n",
       "    }\n",
       "</style>\n",
       "<table border=\"1\" class=\"dataframe\">\n",
       "  <thead>\n",
       "    <tr style=\"text-align: right;\">\n",
       "      <th></th>\n",
       "      <th>campaign name</th>\n",
       "      <th>date</th>\n",
       "      <th>placement id</th>\n",
       "      <th>placement name</th>\n",
       "      <th>publisher (site)</th>\n",
       "      <th>value</th>\n",
       "      <th>metric</th>\n",
       "    </tr>\n",
       "  </thead>\n",
       "  <tbody>\n",
       "    <tr>\n",
       "      <th>0</th>\n",
       "      <td>USA_NAT_PRO_GC_GF_NON_GCS_2020_Q4_Programmatic...</td>\n",
       "      <td>2020-11-01</td>\n",
       "      <td>287698128</td>\n",
       "      <td>GCS_GCS_GCS 100 for 100_na_PLC_BRD_AWR_MAT_DV3...</td>\n",
       "      <td>Cadreon</td>\n",
       "      <td>0.0</td>\n",
       "      <td>clicks</td>\n",
       "    </tr>\n",
       "    <tr>\n",
       "      <th>1</th>\n",
       "      <td>USA_NAT_PRO_GC_GF_NON_GCS_2020_Q4_Programmatic...</td>\n",
       "      <td>2020-11-21</td>\n",
       "      <td>287698128</td>\n",
       "      <td>GCS_GCS_GCS 100 for 100_na_PLC_BRD_AWR_MAT_DV3...</td>\n",
       "      <td>Cadreon</td>\n",
       "      <td>1269.0</td>\n",
       "      <td>clicks</td>\n",
       "    </tr>\n",
       "    <tr>\n",
       "      <th>2</th>\n",
       "      <td>USA_NAT_PRO_GC_GF_NON_GCS_2020_Q4_Programmatic...</td>\n",
       "      <td>2020-11-22</td>\n",
       "      <td>287698128</td>\n",
       "      <td>GCS_GCS_GCS 100 for 100_na_PLC_BRD_AWR_MAT_DV3...</td>\n",
       "      <td>Cadreon</td>\n",
       "      <td>0.0</td>\n",
       "      <td>clicks</td>\n",
       "    </tr>\n",
       "    <tr>\n",
       "      <th>3</th>\n",
       "      <td>USA_NAT_PRO_GC_GF_NON_GCS_2020_Q4_Programmatic...</td>\n",
       "      <td>2020-11-23</td>\n",
       "      <td>287698128</td>\n",
       "      <td>GCS_GCS_GCS 100 for 100_na_PLC_BRD_AWR_MAT_DV3...</td>\n",
       "      <td>Cadreon</td>\n",
       "      <td>0.0</td>\n",
       "      <td>clicks</td>\n",
       "    </tr>\n",
       "    <tr>\n",
       "      <th>4</th>\n",
       "      <td>USA_NAT_PRO_GC_GF_NON_GCS_2020_Q4_Programmatic...</td>\n",
       "      <td>2020-11-24</td>\n",
       "      <td>287698128</td>\n",
       "      <td>GCS_GCS_GCS 100 for 100_na_PLC_BRD_AWR_MAT_DV3...</td>\n",
       "      <td>Cadreon</td>\n",
       "      <td>0.0</td>\n",
       "      <td>clicks</td>\n",
       "    </tr>\n",
       "    <tr>\n",
       "      <th>5</th>\n",
       "      <td>USA_NAT_PRO_GC_GF_NON_GCS_2020_Q4_Programmatic...</td>\n",
       "      <td>2020-11-25</td>\n",
       "      <td>287698128</td>\n",
       "      <td>GCS_GCS_GCS 100 for 100_na_PLC_BRD_AWR_MAT_DV3...</td>\n",
       "      <td>Cadreon</td>\n",
       "      <td>0.0</td>\n",
       "      <td>clicks</td>\n",
       "    </tr>\n",
       "    <tr>\n",
       "      <th>6</th>\n",
       "      <td>USA_NAT_PRO_GC_GF_NON_GCS_2020_Q4_Programmatic...</td>\n",
       "      <td>2020-11-26</td>\n",
       "      <td>287698128</td>\n",
       "      <td>GCS_GCS_GCS 100 for 100_na_PLC_BRD_AWR_MAT_DV3...</td>\n",
       "      <td>Cadreon</td>\n",
       "      <td>0.0</td>\n",
       "      <td>clicks</td>\n",
       "    </tr>\n",
       "    <tr>\n",
       "      <th>7</th>\n",
       "      <td>USA_NAT_PRO_GC_GF_NON_GCS_2020_Q4_Programmatic...</td>\n",
       "      <td>2020-11-27</td>\n",
       "      <td>287698128</td>\n",
       "      <td>GCS_GCS_GCS 100 for 100_na_PLC_BRD_AWR_MAT_DV3...</td>\n",
       "      <td>Cadreon</td>\n",
       "      <td>0.0</td>\n",
       "      <td>clicks</td>\n",
       "    </tr>\n",
       "    <tr>\n",
       "      <th>8</th>\n",
       "      <td>USA_NAT_PRO_GC_GF_NON_GCS_2020_Q4_Programmatic...</td>\n",
       "      <td>2020-11-28</td>\n",
       "      <td>287698128</td>\n",
       "      <td>GCS_GCS_GCS 100 for 100_na_PLC_BRD_AWR_MAT_DV3...</td>\n",
       "      <td>Cadreon</td>\n",
       "      <td>0.0</td>\n",
       "      <td>clicks</td>\n",
       "    </tr>\n",
       "    <tr>\n",
       "      <th>9</th>\n",
       "      <td>USA_NAT_PRO_GC_GF_NON_GCS_2020_Q4_Programmatic...</td>\n",
       "      <td>2020-11-29</td>\n",
       "      <td>287698128</td>\n",
       "      <td>GCS_GCS_GCS 100 for 100_na_PLC_BRD_AWR_MAT_DV3...</td>\n",
       "      <td>Cadreon</td>\n",
       "      <td>0.0</td>\n",
       "      <td>clicks</td>\n",
       "    </tr>\n",
       "    <tr>\n",
       "      <th>10</th>\n",
       "      <td>USA_NAT_PRO_GC_GF_NON_GCS_2020_Q4_Programmatic...</td>\n",
       "      <td>2020-11-30</td>\n",
       "      <td>287698128</td>\n",
       "      <td>GCS_GCS_GCS 100 for 100_na_PLC_BRD_AWR_MAT_DV3...</td>\n",
       "      <td>Cadreon</td>\n",
       "      <td>0.0</td>\n",
       "      <td>clicks</td>\n",
       "    </tr>\n",
       "    <tr>\n",
       "      <th>11</th>\n",
       "      <td>USA_NAT_PRO_GC_GF_NON_GCS_2020_Q4_Programmatic...</td>\n",
       "      <td>2020-12-01</td>\n",
       "      <td>287698128</td>\n",
       "      <td>GCS_GCS_GCS 100 for 100_na_PLC_BRD_AWR_MAT_DV3...</td>\n",
       "      <td>Cadreon</td>\n",
       "      <td>0.0</td>\n",
       "      <td>clicks</td>\n",
       "    </tr>\n",
       "    <tr>\n",
       "      <th>12</th>\n",
       "      <td>USA_NAT_PRO_GC_GF_NON_GCS_2020_Q4_Programmatic...</td>\n",
       "      <td>2020-12-01</td>\n",
       "      <td>287565920</td>\n",
       "      <td>GCS_GCS_GCS 100 for 100_na_PLC_BRD_AWR_MAT_DV3...</td>\n",
       "      <td>Cadreon</td>\n",
       "      <td>0.0</td>\n",
       "      <td>clicks</td>\n",
       "    </tr>\n",
       "    <tr>\n",
       "      <th>13</th>\n",
       "      <td>USA_NAT_PRO_GC_GF_NON_GCS_2020_Q4_Programmatic...</td>\n",
       "      <td>2020-12-02</td>\n",
       "      <td>287698128</td>\n",
       "      <td>GCS_GCS_GCS 100 for 100_na_PLC_BRD_AWR_MAT_DV3...</td>\n",
       "      <td>Cadreon</td>\n",
       "      <td>0.0</td>\n",
       "      <td>clicks</td>\n",
       "    </tr>\n",
       "    <tr>\n",
       "      <th>14</th>\n",
       "      <td>USA_NAT_PRO_GC_GF_NON_GCS_2020_Q4_Programmatic...</td>\n",
       "      <td>2020-12-03</td>\n",
       "      <td>287698128</td>\n",
       "      <td>GCS_GCS_GCS 100 for 100_na_PLC_BRD_AWR_MAT_DV3...</td>\n",
       "      <td>Cadreon</td>\n",
       "      <td>0.0</td>\n",
       "      <td>clicks</td>\n",
       "    </tr>\n",
       "    <tr>\n",
       "      <th>15</th>\n",
       "      <td>USA_NAT_PRO_GC_GF_NON_GCS_2020_Q4_Programmatic...</td>\n",
       "      <td>2020-12-04</td>\n",
       "      <td>287698128</td>\n",
       "      <td>GCS_GCS_GCS 100 for 100_na_PLC_BRD_AWR_MAT_DV3...</td>\n",
       "      <td>Cadreon</td>\n",
       "      <td>0.0</td>\n",
       "      <td>clicks</td>\n",
       "    </tr>\n",
       "    <tr>\n",
       "      <th>16</th>\n",
       "      <td>USA_NAT_PRO_GC_GF_NON_GCS_2020_Q4_Programmatic...</td>\n",
       "      <td>2020-12-05</td>\n",
       "      <td>287698128</td>\n",
       "      <td>GCS_GCS_GCS 100 for 100_na_PLC_BRD_AWR_MAT_DV3...</td>\n",
       "      <td>Cadreon</td>\n",
       "      <td>0.0</td>\n",
       "      <td>clicks</td>\n",
       "    </tr>\n",
       "    <tr>\n",
       "      <th>17</th>\n",
       "      <td>USA_NAT_PRO_GC_GF_NON_GCS_2020_Q4_Programmatic...</td>\n",
       "      <td>2020-12-06</td>\n",
       "      <td>287698128</td>\n",
       "      <td>GCS_GCS_GCS 100 for 100_na_PLC_BRD_AWR_MAT_DV3...</td>\n",
       "      <td>Cadreon</td>\n",
       "      <td>2509.0</td>\n",
       "      <td>clicks</td>\n",
       "    </tr>\n",
       "    <tr>\n",
       "      <th>18</th>\n",
       "      <td>USA_NAT_PRO_GC_GF_NON_GCS_2020_Q4_Programmatic...</td>\n",
       "      <td>2020-12-06</td>\n",
       "      <td>287565920</td>\n",
       "      <td>GCS_GCS_GCS 100 for 100_na_PLC_BRD_AWR_MAT_DV3...</td>\n",
       "      <td>Cadreon</td>\n",
       "      <td>0.0</td>\n",
       "      <td>clicks</td>\n",
       "    </tr>\n",
       "    <tr>\n",
       "      <th>19</th>\n",
       "      <td>USA_NAT_AUD_GC_GF_NON_GCS_2020_Q4_Audio_GCS 10...</td>\n",
       "      <td>2020-11-19</td>\n",
       "      <td>287700381</td>\n",
       "      <td>GCS_GCS_GCS 100 for 100_na_PLC_BRD_AWR_UM_Mega...</td>\n",
       "      <td>Megaphone</td>\n",
       "      <td>0.0</td>\n",
       "      <td>clicks</td>\n",
       "    </tr>\n",
       "    <tr>\n",
       "      <th>20</th>\n",
       "      <td>USA_NAT_AUD_GC_GF_NON_GCS_2020_Q4_Audio_GCS 10...</td>\n",
       "      <td>2020-11-19</td>\n",
       "      <td>287698944</td>\n",
       "      <td>GCS_GCS_GCS 100 for 100_na_PLC_BRD_AWR_UM_Mega...</td>\n",
       "      <td>Megaphone</td>\n",
       "      <td>0.0</td>\n",
       "      <td>clicks</td>\n",
       "    </tr>\n",
       "    <tr>\n",
       "      <th>21</th>\n",
       "      <td>USA_NAT_AUD_GC_GF_NON_GCS_2020_Q4_Audio_GCS 10...</td>\n",
       "      <td>2020-11-19</td>\n",
       "      <td>287698950</td>\n",
       "      <td>GCS_GCS_GCS 100 for 100_na_PLC_BRD_AWR_UM_Mega...</td>\n",
       "      <td>Megaphone</td>\n",
       "      <td>0.0</td>\n",
       "      <td>clicks</td>\n",
       "    </tr>\n",
       "    <tr>\n",
       "      <th>22</th>\n",
       "      <td>USA_NAT_AUD_GC_GF_NON_GCS_2020_Q4_Audio_GCS 10...</td>\n",
       "      <td>2020-11-19</td>\n",
       "      <td>287781067</td>\n",
       "      <td>GCS_GCS_GCS 100 for 100_na_PLC_BRD_AWR_UM_Mega...</td>\n",
       "      <td>Megaphone</td>\n",
       "      <td>0.0</td>\n",
       "      <td>clicks</td>\n",
       "    </tr>\n",
       "    <tr>\n",
       "      <th>23</th>\n",
       "      <td>USA_NAT_AUD_GC_GF_NON_GCS_2020_Q4_Audio_GCS 10...</td>\n",
       "      <td>2020-11-20</td>\n",
       "      <td>287700381</td>\n",
       "      <td>GCS_GCS_GCS 100 for 100_na_PLC_BRD_AWR_UM_Mega...</td>\n",
       "      <td>Megaphone</td>\n",
       "      <td>0.0</td>\n",
       "      <td>clicks</td>\n",
       "    </tr>\n",
       "    <tr>\n",
       "      <th>24</th>\n",
       "      <td>USA_NAT_AUD_GC_GF_NON_GCS_2020_Q4_Audio_GCS 10...</td>\n",
       "      <td>2020-11-20</td>\n",
       "      <td>287698944</td>\n",
       "      <td>GCS_GCS_GCS 100 for 100_na_PLC_BRD_AWR_UM_Mega...</td>\n",
       "      <td>Megaphone</td>\n",
       "      <td>0.0</td>\n",
       "      <td>clicks</td>\n",
       "    </tr>\n",
       "    <tr>\n",
       "      <th>25</th>\n",
       "      <td>USA_NAT_AUD_GC_GF_NON_GCS_2020_Q4_Audio_GCS 10...</td>\n",
       "      <td>2020-11-20</td>\n",
       "      <td>287698950</td>\n",
       "      <td>GCS_GCS_GCS 100 for 100_na_PLC_BRD_AWR_UM_Mega...</td>\n",
       "      <td>Megaphone</td>\n",
       "      <td>0.0</td>\n",
       "      <td>clicks</td>\n",
       "    </tr>\n",
       "    <tr>\n",
       "      <th>26</th>\n",
       "      <td>USA_NAT_AUD_GC_GF_NON_GCS_2020_Q4_Audio_GCS 10...</td>\n",
       "      <td>2020-11-20</td>\n",
       "      <td>287781067</td>\n",
       "      <td>GCS_GCS_GCS 100 for 100_na_PLC_BRD_AWR_UM_Mega...</td>\n",
       "      <td>Megaphone</td>\n",
       "      <td>0.0</td>\n",
       "      <td>clicks</td>\n",
       "    </tr>\n",
       "    <tr>\n",
       "      <th>27</th>\n",
       "      <td>USA_NAT_AUD_GC_GF_NON_GCS_2020_Q4_Audio_GCS 10...</td>\n",
       "      <td>2020-11-21</td>\n",
       "      <td>287700381</td>\n",
       "      <td>GCS_GCS_GCS 100 for 100_na_PLC_BRD_AWR_UM_Mega...</td>\n",
       "      <td>Megaphone</td>\n",
       "      <td>0.0</td>\n",
       "      <td>clicks</td>\n",
       "    </tr>\n",
       "    <tr>\n",
       "      <th>28</th>\n",
       "      <td>USA_NAT_AUD_GC_GF_NON_GCS_2020_Q4_Audio_GCS 10...</td>\n",
       "      <td>2020-11-21</td>\n",
       "      <td>287698944</td>\n",
       "      <td>GCS_GCS_GCS 100 for 100_na_PLC_BRD_AWR_UM_Mega...</td>\n",
       "      <td>Megaphone</td>\n",
       "      <td>0.0</td>\n",
       "      <td>clicks</td>\n",
       "    </tr>\n",
       "    <tr>\n",
       "      <th>29</th>\n",
       "      <td>USA_NAT_AUD_GC_GF_NON_GCS_2020_Q4_Audio_GCS 10...</td>\n",
       "      <td>2020-11-21</td>\n",
       "      <td>287698950</td>\n",
       "      <td>GCS_GCS_GCS 100 for 100_na_PLC_BRD_AWR_UM_Mega...</td>\n",
       "      <td>Megaphone</td>\n",
       "      <td>0.0</td>\n",
       "      <td>clicks</td>\n",
       "    </tr>\n",
       "    <tr>\n",
       "      <th>...</th>\n",
       "      <td>...</td>\n",
       "      <td>...</td>\n",
       "      <td>...</td>\n",
       "      <td>...</td>\n",
       "      <td>...</td>\n",
       "      <td>...</td>\n",
       "      <td>...</td>\n",
       "    </tr>\n",
       "    <tr>\n",
       "      <th>10076</th>\n",
       "      <td>USA_NAT_SOC_GA_EN_NON_GAB_21_Q1_Social_Enterpr...</td>\n",
       "      <td>2021-02-16</td>\n",
       "      <td>295420585</td>\n",
       "      <td>GABM_GAB_Dine Small_na_PLC_BRD_AWR_REP_NextDoo...</td>\n",
       "      <td>Nextdoor</td>\n",
       "      <td>0.0</td>\n",
       "      <td>video completions</td>\n",
       "    </tr>\n",
       "    <tr>\n",
       "      <th>10077</th>\n",
       "      <td>USA_NAT_SOC_GA_EN_NON_GAB_21_Q1_Social_Enterpr...</td>\n",
       "      <td>2021-02-16</td>\n",
       "      <td>295424116</td>\n",
       "      <td>GABM_GAB_Dine Small_na_PLC_BRD_AWR_REP_NextDoo...</td>\n",
       "      <td>Nextdoor</td>\n",
       "      <td>0.0</td>\n",
       "      <td>video completions</td>\n",
       "    </tr>\n",
       "    <tr>\n",
       "      <th>10078</th>\n",
       "      <td>USA_NAT_DIG_GA_EN_MER_GAB_21_Q1_Digital Cross ...</td>\n",
       "      <td>2021-02-15</td>\n",
       "      <td>294707643</td>\n",
       "      <td>GABM_GAB_Dine Small_na_PLC_BRD_AWR_UM_Meredith...</td>\n",
       "      <td>Meredith</td>\n",
       "      <td>522.0</td>\n",
       "      <td>video completions</td>\n",
       "    </tr>\n",
       "    <tr>\n",
       "      <th>10079</th>\n",
       "      <td>USA_NAT_DIG_GA_EN_MER_GAB_21_Q1_Digital Cross ...</td>\n",
       "      <td>2021-02-16</td>\n",
       "      <td>294707643</td>\n",
       "      <td>GABM_GAB_Dine Small_na_PLC_BRD_AWR_UM_Meredith...</td>\n",
       "      <td>Meredith</td>\n",
       "      <td>18230.0</td>\n",
       "      <td>video completions</td>\n",
       "    </tr>\n",
       "    <tr>\n",
       "      <th>10080</th>\n",
       "      <td>USA_NAT_DIG_GA_EN_MER_GAB_21_Q1_Digital Cross ...</td>\n",
       "      <td>2021-02-17</td>\n",
       "      <td>294707644</td>\n",
       "      <td>GABM_GAB_Dine Small_na_PLC_BRD_AWR_UM_Meredith...</td>\n",
       "      <td>Meredith</td>\n",
       "      <td>21967.0</td>\n",
       "      <td>video completions</td>\n",
       "    </tr>\n",
       "    <tr>\n",
       "      <th>10081</th>\n",
       "      <td>USA_NAT_DIG_GA_EN_MER_GAB_21_Q1_Digital Cross ...</td>\n",
       "      <td>2021-02-18</td>\n",
       "      <td>294707645</td>\n",
       "      <td>GABM_GAB_Dine Small_na_PLC_BRD_AWR_UM_Meredith...</td>\n",
       "      <td>Meredith</td>\n",
       "      <td>1046.0</td>\n",
       "      <td>video completions</td>\n",
       "    </tr>\n",
       "    <tr>\n",
       "      <th>10082</th>\n",
       "      <td>USA_NAT_DIG_GA_EN_MER_GAB_21_Q1_Digital Cross ...</td>\n",
       "      <td>2021-02-19</td>\n",
       "      <td>294707646</td>\n",
       "      <td>GABM_GAB_Dine Small_na_PLC_BRD_AWR_UM_Meredith...</td>\n",
       "      <td>Meredith</td>\n",
       "      <td>1070.0</td>\n",
       "      <td>video completions</td>\n",
       "    </tr>\n",
       "    <tr>\n",
       "      <th>10083</th>\n",
       "      <td>USA_NAT_DIG_GA_EN_MER_GAB_21_Q1_Digital Cross ...</td>\n",
       "      <td>2021-02-20</td>\n",
       "      <td>294707647</td>\n",
       "      <td>GABM_GAB_Dine Small_na_PLC_BRD_AWR_UM_Meredith...</td>\n",
       "      <td>Meredith</td>\n",
       "      <td>924.0</td>\n",
       "      <td>video completions</td>\n",
       "    </tr>\n",
       "    <tr>\n",
       "      <th>10084</th>\n",
       "      <td>USA_NAT_DIG_GA_EN_MER_GAB_21_Q1_Digital Cross ...</td>\n",
       "      <td>2021-02-21</td>\n",
       "      <td>294707648</td>\n",
       "      <td>GABM_GAB_Dine Small_na_PLC_BRD_AWR_UM_Meredith...</td>\n",
       "      <td>Meredith</td>\n",
       "      <td>1345.0</td>\n",
       "      <td>video completions</td>\n",
       "    </tr>\n",
       "    <tr>\n",
       "      <th>10085</th>\n",
       "      <td>USA_NAT_AUD_GA_EN_NON_GAB_21_Q1_Audio_Enterpri...</td>\n",
       "      <td>2021-02-15</td>\n",
       "      <td>294664175</td>\n",
       "      <td>GABM_GAB_Dine Small_na_PLC_BRD_AWR_UM_Spotify_...</td>\n",
       "      <td>Spotify</td>\n",
       "      <td>19.0</td>\n",
       "      <td>video completions</td>\n",
       "    </tr>\n",
       "    <tr>\n",
       "      <th>10086</th>\n",
       "      <td>USA_NAT_AUD_GA_EN_NON_GAB_21_Q1_Audio_Enterpri...</td>\n",
       "      <td>2021-02-16</td>\n",
       "      <td>294664175</td>\n",
       "      <td>GABM_GAB_Dine Small_na_PLC_BRD_AWR_UM_Spotify_...</td>\n",
       "      <td>Spotify</td>\n",
       "      <td>0.0</td>\n",
       "      <td>video completions</td>\n",
       "    </tr>\n",
       "    <tr>\n",
       "      <th>10087</th>\n",
       "      <td>USA_NAT_AUD_GA_EN_NON_GAB_21_Q1_Audio_Enterpri...</td>\n",
       "      <td>2021-02-17</td>\n",
       "      <td>294664175</td>\n",
       "      <td>GABM_GAB_Dine Small_na_PLC_BRD_AWR_UM_Spotify_...</td>\n",
       "      <td>Spotify</td>\n",
       "      <td>0.0</td>\n",
       "      <td>video completions</td>\n",
       "    </tr>\n",
       "    <tr>\n",
       "      <th>10088</th>\n",
       "      <td>USA_NAT_AUD_GA_EN_NON_GAB_21_Q1_Audio_Enterpri...</td>\n",
       "      <td>2021-02-18</td>\n",
       "      <td>294664175</td>\n",
       "      <td>GABM_GAB_Dine Small_na_PLC_BRD_AWR_UM_Spotify_...</td>\n",
       "      <td>Spotify</td>\n",
       "      <td>0.0</td>\n",
       "      <td>video completions</td>\n",
       "    </tr>\n",
       "    <tr>\n",
       "      <th>10089</th>\n",
       "      <td>USA_NAT_AUD_GA_EN_NON_GAB_21_Q1_Audio_Enterpri...</td>\n",
       "      <td>2021-02-19</td>\n",
       "      <td>294664175</td>\n",
       "      <td>GABM_GAB_Dine Small_na_PLC_BRD_AWR_UM_Spotify_...</td>\n",
       "      <td>Spotify</td>\n",
       "      <td>0.0</td>\n",
       "      <td>video completions</td>\n",
       "    </tr>\n",
       "    <tr>\n",
       "      <th>10090</th>\n",
       "      <td>USA_NAT_AUD_GA_EN_NON_GAB_21_Q1_Audio_Enterpri...</td>\n",
       "      <td>2021-02-20</td>\n",
       "      <td>294664175</td>\n",
       "      <td>GABM_GAB_Dine Small_na_PLC_BRD_AWR_UM_Spotify_...</td>\n",
       "      <td>Spotify</td>\n",
       "      <td>0.0</td>\n",
       "      <td>video completions</td>\n",
       "    </tr>\n",
       "    <tr>\n",
       "      <th>10091</th>\n",
       "      <td>USA_NAT_AUD_GA_EN_NON_GAB_21_Q1_Audio_Enterpri...</td>\n",
       "      <td>2021-02-21</td>\n",
       "      <td>294664175</td>\n",
       "      <td>GABM_GAB_Dine Small_na_PLC_BRD_AWR_UM_Spotify_...</td>\n",
       "      <td>Spotify</td>\n",
       "      <td>0.0</td>\n",
       "      <td>video completions</td>\n",
       "    </tr>\n",
       "    <tr>\n",
       "      <th>10092</th>\n",
       "      <td>USA_NAT_AUD_GA_EN_NON_GAB_21_Q1_Audio_Enterpri...</td>\n",
       "      <td>2021-02-15</td>\n",
       "      <td>294662168</td>\n",
       "      <td>GABM_GAB_Dine Small_na_PLC_BRD_AWR_UM_Spotify_...</td>\n",
       "      <td>Spotify</td>\n",
       "      <td>0.0</td>\n",
       "      <td>video completions</td>\n",
       "    </tr>\n",
       "    <tr>\n",
       "      <th>10093</th>\n",
       "      <td>USA_NAT_AUD_GA_EN_NON_GAB_21_Q1_Audio_Enterpri...</td>\n",
       "      <td>2021-02-16</td>\n",
       "      <td>294662168</td>\n",
       "      <td>GABM_GAB_Dine Small_na_PLC_BRD_AWR_UM_Spotify_...</td>\n",
       "      <td>Spotify</td>\n",
       "      <td>0.0</td>\n",
       "      <td>video completions</td>\n",
       "    </tr>\n",
       "    <tr>\n",
       "      <th>10094</th>\n",
       "      <td>USA_NAT_AUD_GA_EN_NON_GAB_21_Q1_Audio_Enterpri...</td>\n",
       "      <td>2021-02-17</td>\n",
       "      <td>294662168</td>\n",
       "      <td>GABM_GAB_Dine Small_na_PLC_BRD_AWR_UM_Spotify_...</td>\n",
       "      <td>Spotify</td>\n",
       "      <td>0.0</td>\n",
       "      <td>video completions</td>\n",
       "    </tr>\n",
       "    <tr>\n",
       "      <th>10095</th>\n",
       "      <td>USA_NAT_AUD_GA_EN_NON_GAB_21_Q1_Audio_Enterpri...</td>\n",
       "      <td>2021-02-18</td>\n",
       "      <td>294662168</td>\n",
       "      <td>GABM_GAB_Dine Small_na_PLC_BRD_AWR_UM_Spotify_...</td>\n",
       "      <td>Spotify</td>\n",
       "      <td>0.0</td>\n",
       "      <td>video completions</td>\n",
       "    </tr>\n",
       "    <tr>\n",
       "      <th>10096</th>\n",
       "      <td>USA_NAT_AUD_GA_EN_NON_GAB_21_Q1_Audio_Enterpri...</td>\n",
       "      <td>2021-02-19</td>\n",
       "      <td>294662168</td>\n",
       "      <td>GABM_GAB_Dine Small_na_PLC_BRD_AWR_UM_Spotify_...</td>\n",
       "      <td>Spotify</td>\n",
       "      <td>0.0</td>\n",
       "      <td>video completions</td>\n",
       "    </tr>\n",
       "    <tr>\n",
       "      <th>10097</th>\n",
       "      <td>USA_NAT_AUD_GA_EN_NON_GAB_21_Q1_Audio_Enterpri...</td>\n",
       "      <td>2021-02-20</td>\n",
       "      <td>294662168</td>\n",
       "      <td>GABM_GAB_Dine Small_na_PLC_BRD_AWR_UM_Spotify_...</td>\n",
       "      <td>Spotify</td>\n",
       "      <td>0.0</td>\n",
       "      <td>video completions</td>\n",
       "    </tr>\n",
       "    <tr>\n",
       "      <th>10098</th>\n",
       "      <td>USA_NAT_AUD_GA_EN_NON_GAB_21_Q1_Audio_Enterpri...</td>\n",
       "      <td>2021-02-21</td>\n",
       "      <td>294662168</td>\n",
       "      <td>GABM_GAB_Dine Small_na_PLC_BRD_AWR_UM_Spotify_...</td>\n",
       "      <td>Spotify</td>\n",
       "      <td>0.0</td>\n",
       "      <td>video completions</td>\n",
       "    </tr>\n",
       "    <tr>\n",
       "      <th>10099</th>\n",
       "      <td>USA_NAT_AUD_GA_EN_NON_GAB_21_Q1_Audio_Enterpri...</td>\n",
       "      <td>2021-02-15</td>\n",
       "      <td>294663776</td>\n",
       "      <td>GABM_GAB_Dine Small_na_PLC_BRD_AWR_UM_Spotify_...</td>\n",
       "      <td>Spotify</td>\n",
       "      <td>0.0</td>\n",
       "      <td>video completions</td>\n",
       "    </tr>\n",
       "    <tr>\n",
       "      <th>10100</th>\n",
       "      <td>USA_NAT_AUD_GA_EN_NON_GAB_21_Q1_Audio_Enterpri...</td>\n",
       "      <td>2021-02-16</td>\n",
       "      <td>294663776</td>\n",
       "      <td>GABM_GAB_Dine Small_na_PLC_BRD_AWR_UM_Spotify_...</td>\n",
       "      <td>Spotify</td>\n",
       "      <td>0.0</td>\n",
       "      <td>video completions</td>\n",
       "    </tr>\n",
       "    <tr>\n",
       "      <th>10101</th>\n",
       "      <td>USA_NAT_AUD_GA_EN_NON_GAB_21_Q1_Audio_Enterpri...</td>\n",
       "      <td>2021-02-17</td>\n",
       "      <td>294663776</td>\n",
       "      <td>GABM_GAB_Dine Small_na_PLC_BRD_AWR_UM_Spotify_...</td>\n",
       "      <td>Spotify</td>\n",
       "      <td>0.0</td>\n",
       "      <td>video completions</td>\n",
       "    </tr>\n",
       "    <tr>\n",
       "      <th>10102</th>\n",
       "      <td>USA_NAT_AUD_GA_EN_NON_GAB_21_Q1_Audio_Enterpri...</td>\n",
       "      <td>2021-02-18</td>\n",
       "      <td>294663776</td>\n",
       "      <td>GABM_GAB_Dine Small_na_PLC_BRD_AWR_UM_Spotify_...</td>\n",
       "      <td>Spotify</td>\n",
       "      <td>0.0</td>\n",
       "      <td>video completions</td>\n",
       "    </tr>\n",
       "    <tr>\n",
       "      <th>10103</th>\n",
       "      <td>USA_NAT_AUD_GA_EN_NON_GAB_21_Q1_Audio_Enterpri...</td>\n",
       "      <td>2021-02-19</td>\n",
       "      <td>294663776</td>\n",
       "      <td>GABM_GAB_Dine Small_na_PLC_BRD_AWR_UM_Spotify_...</td>\n",
       "      <td>Spotify</td>\n",
       "      <td>0.0</td>\n",
       "      <td>video completions</td>\n",
       "    </tr>\n",
       "    <tr>\n",
       "      <th>10104</th>\n",
       "      <td>USA_NAT_AUD_GA_EN_NON_GAB_21_Q1_Audio_Enterpri...</td>\n",
       "      <td>2021-02-20</td>\n",
       "      <td>294663776</td>\n",
       "      <td>GABM_GAB_Dine Small_na_PLC_BRD_AWR_UM_Spotify_...</td>\n",
       "      <td>Spotify</td>\n",
       "      <td>0.0</td>\n",
       "      <td>video completions</td>\n",
       "    </tr>\n",
       "    <tr>\n",
       "      <th>10105</th>\n",
       "      <td>USA_NAT_AUD_GA_EN_NON_GAB_21_Q1_Audio_Enterpri...</td>\n",
       "      <td>2021-02-21</td>\n",
       "      <td>294663776</td>\n",
       "      <td>GABM_GAB_Dine Small_na_PLC_BRD_AWR_UM_Spotify_...</td>\n",
       "      <td>Spotify</td>\n",
       "      <td>0.0</td>\n",
       "      <td>video completions</td>\n",
       "    </tr>\n",
       "  </tbody>\n",
       "</table>\n",
       "<p>10106 rows × 7 columns</p>\n",
       "</div>"
      ],
      "text/plain": [
       "                                           campaign name       date  \\\n",
       "0      USA_NAT_PRO_GC_GF_NON_GCS_2020_Q4_Programmatic... 2020-11-01   \n",
       "1      USA_NAT_PRO_GC_GF_NON_GCS_2020_Q4_Programmatic... 2020-11-21   \n",
       "2      USA_NAT_PRO_GC_GF_NON_GCS_2020_Q4_Programmatic... 2020-11-22   \n",
       "3      USA_NAT_PRO_GC_GF_NON_GCS_2020_Q4_Programmatic... 2020-11-23   \n",
       "4      USA_NAT_PRO_GC_GF_NON_GCS_2020_Q4_Programmatic... 2020-11-24   \n",
       "5      USA_NAT_PRO_GC_GF_NON_GCS_2020_Q4_Programmatic... 2020-11-25   \n",
       "6      USA_NAT_PRO_GC_GF_NON_GCS_2020_Q4_Programmatic... 2020-11-26   \n",
       "7      USA_NAT_PRO_GC_GF_NON_GCS_2020_Q4_Programmatic... 2020-11-27   \n",
       "8      USA_NAT_PRO_GC_GF_NON_GCS_2020_Q4_Programmatic... 2020-11-28   \n",
       "9      USA_NAT_PRO_GC_GF_NON_GCS_2020_Q4_Programmatic... 2020-11-29   \n",
       "10     USA_NAT_PRO_GC_GF_NON_GCS_2020_Q4_Programmatic... 2020-11-30   \n",
       "11     USA_NAT_PRO_GC_GF_NON_GCS_2020_Q4_Programmatic... 2020-12-01   \n",
       "12     USA_NAT_PRO_GC_GF_NON_GCS_2020_Q4_Programmatic... 2020-12-01   \n",
       "13     USA_NAT_PRO_GC_GF_NON_GCS_2020_Q4_Programmatic... 2020-12-02   \n",
       "14     USA_NAT_PRO_GC_GF_NON_GCS_2020_Q4_Programmatic... 2020-12-03   \n",
       "15     USA_NAT_PRO_GC_GF_NON_GCS_2020_Q4_Programmatic... 2020-12-04   \n",
       "16     USA_NAT_PRO_GC_GF_NON_GCS_2020_Q4_Programmatic... 2020-12-05   \n",
       "17     USA_NAT_PRO_GC_GF_NON_GCS_2020_Q4_Programmatic... 2020-12-06   \n",
       "18     USA_NAT_PRO_GC_GF_NON_GCS_2020_Q4_Programmatic... 2020-12-06   \n",
       "19     USA_NAT_AUD_GC_GF_NON_GCS_2020_Q4_Audio_GCS 10... 2020-11-19   \n",
       "20     USA_NAT_AUD_GC_GF_NON_GCS_2020_Q4_Audio_GCS 10... 2020-11-19   \n",
       "21     USA_NAT_AUD_GC_GF_NON_GCS_2020_Q4_Audio_GCS 10... 2020-11-19   \n",
       "22     USA_NAT_AUD_GC_GF_NON_GCS_2020_Q4_Audio_GCS 10... 2020-11-19   \n",
       "23     USA_NAT_AUD_GC_GF_NON_GCS_2020_Q4_Audio_GCS 10... 2020-11-20   \n",
       "24     USA_NAT_AUD_GC_GF_NON_GCS_2020_Q4_Audio_GCS 10... 2020-11-20   \n",
       "25     USA_NAT_AUD_GC_GF_NON_GCS_2020_Q4_Audio_GCS 10... 2020-11-20   \n",
       "26     USA_NAT_AUD_GC_GF_NON_GCS_2020_Q4_Audio_GCS 10... 2020-11-20   \n",
       "27     USA_NAT_AUD_GC_GF_NON_GCS_2020_Q4_Audio_GCS 10... 2020-11-21   \n",
       "28     USA_NAT_AUD_GC_GF_NON_GCS_2020_Q4_Audio_GCS 10... 2020-11-21   \n",
       "29     USA_NAT_AUD_GC_GF_NON_GCS_2020_Q4_Audio_GCS 10... 2020-11-21   \n",
       "...                                                  ...        ...   \n",
       "10076  USA_NAT_SOC_GA_EN_NON_GAB_21_Q1_Social_Enterpr... 2021-02-16   \n",
       "10077  USA_NAT_SOC_GA_EN_NON_GAB_21_Q1_Social_Enterpr... 2021-02-16   \n",
       "10078  USA_NAT_DIG_GA_EN_MER_GAB_21_Q1_Digital Cross ... 2021-02-15   \n",
       "10079  USA_NAT_DIG_GA_EN_MER_GAB_21_Q1_Digital Cross ... 2021-02-16   \n",
       "10080  USA_NAT_DIG_GA_EN_MER_GAB_21_Q1_Digital Cross ... 2021-02-17   \n",
       "10081  USA_NAT_DIG_GA_EN_MER_GAB_21_Q1_Digital Cross ... 2021-02-18   \n",
       "10082  USA_NAT_DIG_GA_EN_MER_GAB_21_Q1_Digital Cross ... 2021-02-19   \n",
       "10083  USA_NAT_DIG_GA_EN_MER_GAB_21_Q1_Digital Cross ... 2021-02-20   \n",
       "10084  USA_NAT_DIG_GA_EN_MER_GAB_21_Q1_Digital Cross ... 2021-02-21   \n",
       "10085  USA_NAT_AUD_GA_EN_NON_GAB_21_Q1_Audio_Enterpri... 2021-02-15   \n",
       "10086  USA_NAT_AUD_GA_EN_NON_GAB_21_Q1_Audio_Enterpri... 2021-02-16   \n",
       "10087  USA_NAT_AUD_GA_EN_NON_GAB_21_Q1_Audio_Enterpri... 2021-02-17   \n",
       "10088  USA_NAT_AUD_GA_EN_NON_GAB_21_Q1_Audio_Enterpri... 2021-02-18   \n",
       "10089  USA_NAT_AUD_GA_EN_NON_GAB_21_Q1_Audio_Enterpri... 2021-02-19   \n",
       "10090  USA_NAT_AUD_GA_EN_NON_GAB_21_Q1_Audio_Enterpri... 2021-02-20   \n",
       "10091  USA_NAT_AUD_GA_EN_NON_GAB_21_Q1_Audio_Enterpri... 2021-02-21   \n",
       "10092  USA_NAT_AUD_GA_EN_NON_GAB_21_Q1_Audio_Enterpri... 2021-02-15   \n",
       "10093  USA_NAT_AUD_GA_EN_NON_GAB_21_Q1_Audio_Enterpri... 2021-02-16   \n",
       "10094  USA_NAT_AUD_GA_EN_NON_GAB_21_Q1_Audio_Enterpri... 2021-02-17   \n",
       "10095  USA_NAT_AUD_GA_EN_NON_GAB_21_Q1_Audio_Enterpri... 2021-02-18   \n",
       "10096  USA_NAT_AUD_GA_EN_NON_GAB_21_Q1_Audio_Enterpri... 2021-02-19   \n",
       "10097  USA_NAT_AUD_GA_EN_NON_GAB_21_Q1_Audio_Enterpri... 2021-02-20   \n",
       "10098  USA_NAT_AUD_GA_EN_NON_GAB_21_Q1_Audio_Enterpri... 2021-02-21   \n",
       "10099  USA_NAT_AUD_GA_EN_NON_GAB_21_Q1_Audio_Enterpri... 2021-02-15   \n",
       "10100  USA_NAT_AUD_GA_EN_NON_GAB_21_Q1_Audio_Enterpri... 2021-02-16   \n",
       "10101  USA_NAT_AUD_GA_EN_NON_GAB_21_Q1_Audio_Enterpri... 2021-02-17   \n",
       "10102  USA_NAT_AUD_GA_EN_NON_GAB_21_Q1_Audio_Enterpri... 2021-02-18   \n",
       "10103  USA_NAT_AUD_GA_EN_NON_GAB_21_Q1_Audio_Enterpri... 2021-02-19   \n",
       "10104  USA_NAT_AUD_GA_EN_NON_GAB_21_Q1_Audio_Enterpri... 2021-02-20   \n",
       "10105  USA_NAT_AUD_GA_EN_NON_GAB_21_Q1_Audio_Enterpri... 2021-02-21   \n",
       "\n",
       "       placement id                                     placement name  \\\n",
       "0         287698128  GCS_GCS_GCS 100 for 100_na_PLC_BRD_AWR_MAT_DV3...   \n",
       "1         287698128  GCS_GCS_GCS 100 for 100_na_PLC_BRD_AWR_MAT_DV3...   \n",
       "2         287698128  GCS_GCS_GCS 100 for 100_na_PLC_BRD_AWR_MAT_DV3...   \n",
       "3         287698128  GCS_GCS_GCS 100 for 100_na_PLC_BRD_AWR_MAT_DV3...   \n",
       "4         287698128  GCS_GCS_GCS 100 for 100_na_PLC_BRD_AWR_MAT_DV3...   \n",
       "5         287698128  GCS_GCS_GCS 100 for 100_na_PLC_BRD_AWR_MAT_DV3...   \n",
       "6         287698128  GCS_GCS_GCS 100 for 100_na_PLC_BRD_AWR_MAT_DV3...   \n",
       "7         287698128  GCS_GCS_GCS 100 for 100_na_PLC_BRD_AWR_MAT_DV3...   \n",
       "8         287698128  GCS_GCS_GCS 100 for 100_na_PLC_BRD_AWR_MAT_DV3...   \n",
       "9         287698128  GCS_GCS_GCS 100 for 100_na_PLC_BRD_AWR_MAT_DV3...   \n",
       "10        287698128  GCS_GCS_GCS 100 for 100_na_PLC_BRD_AWR_MAT_DV3...   \n",
       "11        287698128  GCS_GCS_GCS 100 for 100_na_PLC_BRD_AWR_MAT_DV3...   \n",
       "12        287565920  GCS_GCS_GCS 100 for 100_na_PLC_BRD_AWR_MAT_DV3...   \n",
       "13        287698128  GCS_GCS_GCS 100 for 100_na_PLC_BRD_AWR_MAT_DV3...   \n",
       "14        287698128  GCS_GCS_GCS 100 for 100_na_PLC_BRD_AWR_MAT_DV3...   \n",
       "15        287698128  GCS_GCS_GCS 100 for 100_na_PLC_BRD_AWR_MAT_DV3...   \n",
       "16        287698128  GCS_GCS_GCS 100 for 100_na_PLC_BRD_AWR_MAT_DV3...   \n",
       "17        287698128  GCS_GCS_GCS 100 for 100_na_PLC_BRD_AWR_MAT_DV3...   \n",
       "18        287565920  GCS_GCS_GCS 100 for 100_na_PLC_BRD_AWR_MAT_DV3...   \n",
       "19        287700381  GCS_GCS_GCS 100 for 100_na_PLC_BRD_AWR_UM_Mega...   \n",
       "20        287698944  GCS_GCS_GCS 100 for 100_na_PLC_BRD_AWR_UM_Mega...   \n",
       "21        287698950  GCS_GCS_GCS 100 for 100_na_PLC_BRD_AWR_UM_Mega...   \n",
       "22        287781067  GCS_GCS_GCS 100 for 100_na_PLC_BRD_AWR_UM_Mega...   \n",
       "23        287700381  GCS_GCS_GCS 100 for 100_na_PLC_BRD_AWR_UM_Mega...   \n",
       "24        287698944  GCS_GCS_GCS 100 for 100_na_PLC_BRD_AWR_UM_Mega...   \n",
       "25        287698950  GCS_GCS_GCS 100 for 100_na_PLC_BRD_AWR_UM_Mega...   \n",
       "26        287781067  GCS_GCS_GCS 100 for 100_na_PLC_BRD_AWR_UM_Mega...   \n",
       "27        287700381  GCS_GCS_GCS 100 for 100_na_PLC_BRD_AWR_UM_Mega...   \n",
       "28        287698944  GCS_GCS_GCS 100 for 100_na_PLC_BRD_AWR_UM_Mega...   \n",
       "29        287698950  GCS_GCS_GCS 100 for 100_na_PLC_BRD_AWR_UM_Mega...   \n",
       "...             ...                                                ...   \n",
       "10076     295420585  GABM_GAB_Dine Small_na_PLC_BRD_AWR_REP_NextDoo...   \n",
       "10077     295424116  GABM_GAB_Dine Small_na_PLC_BRD_AWR_REP_NextDoo...   \n",
       "10078     294707643  GABM_GAB_Dine Small_na_PLC_BRD_AWR_UM_Meredith...   \n",
       "10079     294707643  GABM_GAB_Dine Small_na_PLC_BRD_AWR_UM_Meredith...   \n",
       "10080     294707644  GABM_GAB_Dine Small_na_PLC_BRD_AWR_UM_Meredith...   \n",
       "10081     294707645  GABM_GAB_Dine Small_na_PLC_BRD_AWR_UM_Meredith...   \n",
       "10082     294707646  GABM_GAB_Dine Small_na_PLC_BRD_AWR_UM_Meredith...   \n",
       "10083     294707647  GABM_GAB_Dine Small_na_PLC_BRD_AWR_UM_Meredith...   \n",
       "10084     294707648  GABM_GAB_Dine Small_na_PLC_BRD_AWR_UM_Meredith...   \n",
       "10085     294664175  GABM_GAB_Dine Small_na_PLC_BRD_AWR_UM_Spotify_...   \n",
       "10086     294664175  GABM_GAB_Dine Small_na_PLC_BRD_AWR_UM_Spotify_...   \n",
       "10087     294664175  GABM_GAB_Dine Small_na_PLC_BRD_AWR_UM_Spotify_...   \n",
       "10088     294664175  GABM_GAB_Dine Small_na_PLC_BRD_AWR_UM_Spotify_...   \n",
       "10089     294664175  GABM_GAB_Dine Small_na_PLC_BRD_AWR_UM_Spotify_...   \n",
       "10090     294664175  GABM_GAB_Dine Small_na_PLC_BRD_AWR_UM_Spotify_...   \n",
       "10091     294664175  GABM_GAB_Dine Small_na_PLC_BRD_AWR_UM_Spotify_...   \n",
       "10092     294662168  GABM_GAB_Dine Small_na_PLC_BRD_AWR_UM_Spotify_...   \n",
       "10093     294662168  GABM_GAB_Dine Small_na_PLC_BRD_AWR_UM_Spotify_...   \n",
       "10094     294662168  GABM_GAB_Dine Small_na_PLC_BRD_AWR_UM_Spotify_...   \n",
       "10095     294662168  GABM_GAB_Dine Small_na_PLC_BRD_AWR_UM_Spotify_...   \n",
       "10096     294662168  GABM_GAB_Dine Small_na_PLC_BRD_AWR_UM_Spotify_...   \n",
       "10097     294662168  GABM_GAB_Dine Small_na_PLC_BRD_AWR_UM_Spotify_...   \n",
       "10098     294662168  GABM_GAB_Dine Small_na_PLC_BRD_AWR_UM_Spotify_...   \n",
       "10099     294663776  GABM_GAB_Dine Small_na_PLC_BRD_AWR_UM_Spotify_...   \n",
       "10100     294663776  GABM_GAB_Dine Small_na_PLC_BRD_AWR_UM_Spotify_...   \n",
       "10101     294663776  GABM_GAB_Dine Small_na_PLC_BRD_AWR_UM_Spotify_...   \n",
       "10102     294663776  GABM_GAB_Dine Small_na_PLC_BRD_AWR_UM_Spotify_...   \n",
       "10103     294663776  GABM_GAB_Dine Small_na_PLC_BRD_AWR_UM_Spotify_...   \n",
       "10104     294663776  GABM_GAB_Dine Small_na_PLC_BRD_AWR_UM_Spotify_...   \n",
       "10105     294663776  GABM_GAB_Dine Small_na_PLC_BRD_AWR_UM_Spotify_...   \n",
       "\n",
       "      publisher (site)    value             metric  \n",
       "0              Cadreon      0.0             clicks  \n",
       "1              Cadreon   1269.0             clicks  \n",
       "2              Cadreon      0.0             clicks  \n",
       "3              Cadreon      0.0             clicks  \n",
       "4              Cadreon      0.0             clicks  \n",
       "5              Cadreon      0.0             clicks  \n",
       "6              Cadreon      0.0             clicks  \n",
       "7              Cadreon      0.0             clicks  \n",
       "8              Cadreon      0.0             clicks  \n",
       "9              Cadreon      0.0             clicks  \n",
       "10             Cadreon      0.0             clicks  \n",
       "11             Cadreon      0.0             clicks  \n",
       "12             Cadreon      0.0             clicks  \n",
       "13             Cadreon      0.0             clicks  \n",
       "14             Cadreon      0.0             clicks  \n",
       "15             Cadreon      0.0             clicks  \n",
       "16             Cadreon      0.0             clicks  \n",
       "17             Cadreon   2509.0             clicks  \n",
       "18             Cadreon      0.0             clicks  \n",
       "19           Megaphone      0.0             clicks  \n",
       "20           Megaphone      0.0             clicks  \n",
       "21           Megaphone      0.0             clicks  \n",
       "22           Megaphone      0.0             clicks  \n",
       "23           Megaphone      0.0             clicks  \n",
       "24           Megaphone      0.0             clicks  \n",
       "25           Megaphone      0.0             clicks  \n",
       "26           Megaphone      0.0             clicks  \n",
       "27           Megaphone      0.0             clicks  \n",
       "28           Megaphone      0.0             clicks  \n",
       "29           Megaphone      0.0             clicks  \n",
       "...                ...      ...                ...  \n",
       "10076         Nextdoor      0.0  video completions  \n",
       "10077         Nextdoor      0.0  video completions  \n",
       "10078         Meredith    522.0  video completions  \n",
       "10079         Meredith  18230.0  video completions  \n",
       "10080         Meredith  21967.0  video completions  \n",
       "10081         Meredith   1046.0  video completions  \n",
       "10082         Meredith   1070.0  video completions  \n",
       "10083         Meredith    924.0  video completions  \n",
       "10084         Meredith   1345.0  video completions  \n",
       "10085          Spotify     19.0  video completions  \n",
       "10086          Spotify      0.0  video completions  \n",
       "10087          Spotify      0.0  video completions  \n",
       "10088          Spotify      0.0  video completions  \n",
       "10089          Spotify      0.0  video completions  \n",
       "10090          Spotify      0.0  video completions  \n",
       "10091          Spotify      0.0  video completions  \n",
       "10092          Spotify      0.0  video completions  \n",
       "10093          Spotify      0.0  video completions  \n",
       "10094          Spotify      0.0  video completions  \n",
       "10095          Spotify      0.0  video completions  \n",
       "10096          Spotify      0.0  video completions  \n",
       "10097          Spotify      0.0  video completions  \n",
       "10098          Spotify      0.0  video completions  \n",
       "10099          Spotify      0.0  video completions  \n",
       "10100          Spotify      0.0  video completions  \n",
       "10101          Spotify      0.0  video completions  \n",
       "10102          Spotify      0.0  video completions  \n",
       "10103          Spotify      0.0  video completions  \n",
       "10104          Spotify      0.0  video completions  \n",
       "10105          Spotify      0.0  video completions  \n",
       "\n",
       "[10106 rows x 7 columns]"
      ]
     },
     "execution_count": 506,
     "metadata": {},
     "output_type": "execute_result"
    }
   ],
   "source": [
    "process_ss(files)"
   ]
  },
  {
   "cell_type": "code",
   "execution_count": null,
   "metadata": {},
   "outputs": [],
   "source": []
  },
  {
   "cell_type": "code",
   "execution_count": null,
   "metadata": {},
   "outputs": [],
   "source": []
  },
  {
   "cell_type": "code",
   "execution_count": null,
   "metadata": {},
   "outputs": [],
   "source": []
  },
  {
   "cell_type": "code",
   "execution_count": 435,
   "metadata": {},
   "outputs": [],
   "source": [
    "# df_filename.sort_values(by='filename_raw').to_excel('parsed_ss_filename.xlsx', index=False)"
   ]
  },
  {
   "cell_type": "code",
   "execution_count": null,
   "metadata": {},
   "outputs": [],
   "source": []
  }
 ],
 "metadata": {
  "kernelspec": {
   "display_name": "Python 3",
   "language": "python",
   "name": "python3"
  },
  "language_info": {
   "codemirror_mode": {
    "name": "ipython",
    "version": 3
   },
   "file_extension": ".py",
   "mimetype": "text/x-python",
   "name": "python",
   "nbconvert_exporter": "python",
   "pygments_lexer": "ipython3",
   "version": "3.7.2"
  }
 },
 "nbformat": 4,
 "nbformat_minor": 2
}
