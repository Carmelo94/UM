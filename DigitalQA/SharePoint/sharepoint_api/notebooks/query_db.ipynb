{
 "cells": [
  {
   "cell_type": "code",
   "execution_count": 3,
   "metadata": {},
   "outputs": [],
   "source": [
    "import pandas as pd\n",
    "import psycopg2"
   ]
  },
  {
   "cell_type": "code",
   "execution_count": 7,
   "metadata": {},
   "outputs": [],
   "source": [
    "# credentials\n",
    "rs_cred = {\n",
    "    \"dbname\":\"mbidet1\",\n",
    "    \"host\":\"p1-decisionsciences-01.c84n347pnh51.us-east-1.redshift.amazonaws.com\",\n",
    "    \"port\":5439,\n",
    "    \"user\":\"carmelourena\",\n",
    "    \"password\":\"pobHS54^!65\"\n",
    "}\n",
    "\n",
    "qry = '''\n",
    "    SELECT DISTINCT\n",
    "        universal_platform,\n",
    "        metric,\n",
    "        universal_metric\n",
    "    FROM amex.v_social_joined_updated\n",
    "    WHERE\n",
    "        universal_platform IN ('Pinterest')\n",
    "    '''"
   ]
  },
  {
   "cell_type": "code",
   "execution_count": 5,
   "metadata": {},
   "outputs": [],
   "source": [
    "# connect to db\n",
    "con = psycopg2.connect(**rs_cred)\n",
    "cur = con.cursor()\n",
    "\n",
    "# read into dataframe\n",
    "results = pd.read_sql(qry, con)\n",
    "\n",
    "# close connection\n",
    "con.close()"
   ]
  },
  {
   "cell_type": "code",
   "execution_count": null,
   "metadata": {},
   "outputs": [],
   "source": []
  }
 ],
 "metadata": {
  "kernelspec": {
   "display_name": "Python 3",
   "language": "python",
   "name": "python3"
  },
  "language_info": {
   "codemirror_mode": {
    "name": "ipython",
    "version": 3
   },
   "file_extension": ".py",
   "mimetype": "text/x-python",
   "name": "python",
   "nbconvert_exporter": "python",
   "pygments_lexer": "ipython3",
   "version": "3.7.2"
  }
 },
 "nbformat": 4,
 "nbformat_minor": 2
}
